{
 "cells": [
  {
   "attachments": {},
   "cell_type": "markdown",
   "metadata": {},
   "source": [
    "# Классификация комментариев\n",
    "\n",
    "Интернет-магазин запускает новый сервис. Теперь пользователи могут редактировать и дополнять описания товаров, как в вики-сообществах. То есть клиенты предлагают свои правки и комментируют изменения других. Магазину нужен инструмент, который будет искать токсичные комментарии и отправлять их на модерацию. \n",
    "\n",
    "**Задача:**   \n",
    "Построить модель для классифиции комментариев на позитивные и негативные со значением метрики качества *F1* не меньше 0.75\n",
    "\n",
    "**Объект исследования:**   \n",
    "Набор данных с разметкой о токсичности правок. Столбец text в нём содержит текст комментария, а toxic — целевой признак."
   ]
  },
  {
   "cell_type": "markdown",
   "metadata": {
    "toc": true
   },
   "source": [
    "<h1>Содержание<span class=\"tocSkip\"></span></h1>\n",
    "<div class=\"toc\"><ul class=\"toc-item\"><li><span><a href=\"#Подготовка\" data-toc-modified-id=\"Подготовка-1\"><span class=\"toc-item-num\">1&nbsp;&nbsp;</span>Подготовка</a></span><ul class=\"toc-item\"><li><span><a href=\"#Импорт-библиотек\" data-toc-modified-id=\"Импорт-библиотек-1.1\"><span class=\"toc-item-num\">1.1&nbsp;&nbsp;</span>Импорт библиотек</a></span></li><li><span><a href=\"#Загрузка-и-знакомство-с-данными\" data-toc-modified-id=\"Загрузка-и-знакомство-с-данными-1.2\"><span class=\"toc-item-num\">1.2&nbsp;&nbsp;</span>Загрузка и знакомство с данными</a></span><ul class=\"toc-item\"><li><span><a href=\"#сокращение-выборки\" data-toc-modified-id=\"сокращение-выборки-1.2.1\"><span class=\"toc-item-num\">1.2.1&nbsp;&nbsp;</span>сокращение выборки</a></span></li></ul></li><li><span><a href=\"#Предобработка-текста\" data-toc-modified-id=\"Предобработка-текста-1.3\"><span class=\"toc-item-num\">1.3&nbsp;&nbsp;</span>Предобработка текста</a></span></li><li><span><a href=\"#Деление-на-выборки\" data-toc-modified-id=\"Деление-на-выборки-1.4\"><span class=\"toc-item-num\">1.4&nbsp;&nbsp;</span>Деление на выборки</a></span></li><li><span><a href=\"#Векторное-представление\" data-toc-modified-id=\"Векторное-представление-1.5\"><span class=\"toc-item-num\">1.5&nbsp;&nbsp;</span>Векторное представление</a></span></li></ul></li><li><span><a href=\"#Обучение\" data-toc-modified-id=\"Обучение-2\"><span class=\"toc-item-num\">2&nbsp;&nbsp;</span>Обучение</a></span><ul class=\"toc-item\"><li><span><a href=\"#Логистическая-регрессия\" data-toc-modified-id=\"Логистическая-регрессия-2.1\"><span class=\"toc-item-num\">2.1&nbsp;&nbsp;</span>Логистическая регрессия</a></span></li><li><span><a href=\"#LinearSVC\" data-toc-modified-id=\"LinearSVC-2.2\"><span class=\"toc-item-num\">2.2&nbsp;&nbsp;</span>LinearSVC</a></span></li><li><span><a href=\"#SGDClassifier\" data-toc-modified-id=\"SGDClassifier-2.3\"><span class=\"toc-item-num\">2.3&nbsp;&nbsp;</span>SGDClassifier</a></span><ul class=\"toc-item\"><li><span><a href=\"#Градиентный-бустинг-CatBoost\" data-toc-modified-id=\"Градиентный-бустинг-CatBoost-2.3.1\"><span class=\"toc-item-num\">2.3.1&nbsp;&nbsp;</span>Градиентный бустинг CatBoost</a></span></li></ul></li><li><span><a href=\"#Тестирование-модели\" data-toc-modified-id=\"Тестирование-модели-2.4\"><span class=\"toc-item-num\">2.4&nbsp;&nbsp;</span>Тестирование модели</a></span></li></ul></li><li><span><a href=\"#Итоги\" data-toc-modified-id=\"Итоги-3\"><span class=\"toc-item-num\">3&nbsp;&nbsp;</span>Итоги</a></span></li></ul></div>"
   ]
  },
  {
   "cell_type": "markdown",
   "metadata": {},
   "source": [
    "## Подготовка\n",
    "### Импорт библиотек"
   ]
  },
  {
   "cell_type": "code",
   "execution_count": 1,
   "metadata": {},
   "outputs": [],
   "source": [
    "# # установка библиотеки catboost\n",
    "# !pip install catboost\n",
    "# conda install spacy\n",
    "# !spacy download en_core_web_sm"
   ]
  },
  {
   "cell_type": "code",
   "execution_count": 1,
   "metadata": {},
   "outputs": [
    {
     "name": "stderr",
     "output_type": "stream",
     "text": [
      "[nltk_data] Downloading package punkt to\n",
      "[nltk_data]     /Users/thetonytime/nltk_data...\n",
      "[nltk_data]   Package punkt is already up-to-date!\n",
      "[nltk_data] Downloading package wordnet to\n",
      "[nltk_data]     /Users/thetonytime/nltk_data...\n",
      "[nltk_data]   Package wordnet is already up-to-date!\n",
      "[nltk_data] Downloading package averaged_perceptron_tagger to\n",
      "[nltk_data]     /Users/thetonytime/nltk_data...\n",
      "[nltk_data]   Package averaged_perceptron_tagger is already up-to-\n",
      "[nltk_data]       date!\n",
      "[nltk_data] Downloading package stopwords to\n",
      "[nltk_data]     /Users/thetonytime/nltk_data...\n",
      "[nltk_data]   Package stopwords is already up-to-date!\n"
     ]
    }
   ],
   "source": [
    "# импорт необходимых библиотек\n",
    "import os\n",
    "import time\n",
    "import pandas as pd\n",
    "import numpy as np\n",
    "import matplotlib.pyplot as plt\n",
    "import re\n",
    "\n",
    "# отлеживание прогресса\n",
    "from tqdm import tqdm\n",
    "tqdm.pandas() # для работы progress_apply в пандас\n",
    "\n",
    "# токенизация\n",
    "from nltk.tokenize import word_tokenize\n",
    "\n",
    "# лемматизация\n",
    "import nltk\n",
    "nltk.download('punkt')\n",
    "nltk.download('wordnet')\n",
    "nltk.download('averaged_perceptron_tagger')\n",
    "from nltk.stem import WordNetLemmatizer\n",
    "from nltk.corpus import wordnet\n",
    "import spacy\n",
    "\n",
    "# словарь стоп-слов\n",
    "from nltk.corpus import stopwords\n",
    "nltk.download('stopwords')\n",
    "\n",
    "# векторизация текста\n",
    "from sklearn.feature_extraction.text import TfidfVectorizer, CountVectorizer\n",
    "\n",
    "# деление на выборки\n",
    "from sklearn.model_selection import train_test_split\n",
    "\n",
    "# метрика качества\n",
    "from sklearn.metrics import f1_score, make_scorer, accuracy_score\n",
    "from sklearn.metrics import ConfusionMatrixDisplay, confusion_matrix\n",
    "\n",
    "\n",
    "# подбор гипрепараметров\n",
    "from sklearn.model_selection import RandomizedSearchCV, cross_validate, StratifiedKFold\n",
    "\n",
    "from sklearn.experimental import enable_halving_search_cv \n",
    "from sklearn.model_selection import HalvingRandomSearchCV, HalvingGridSearchCV\n",
    "\n",
    "#   pipeline\n",
    "from sklearn.preprocessing import FunctionTransformer\n",
    "from sklearn.pipeline import Pipeline\n",
    "\n",
    "# линейные модели\n",
    "from sklearn.linear_model import LogisticRegression, SGDClassifier\n",
    "from sklearn.svm import LinearSVC\n",
    "\n",
    "# модель градиентный бустинг из библиотеки catboost\n",
    "import catboost as cb\n",
    "\n",
    "# создание собственного трансформера из функции для пайплайн\n",
    "from sklearn.base import BaseEstimator, TransformerMixin\n",
    "\n",
    "# создание константной модели\n",
    "from sklearn.dummy import DummyClassifier\n",
    "\n",
    "# скрыть предупреждения\n",
    "import warnings\n",
    "warnings.filterwarnings('ignore')"
   ]
  },
  {
   "cell_type": "code",
   "execution_count": 2,
   "metadata": {},
   "outputs": [],
   "source": [
    "# зададим 3 знака после запятой для float при отображении табли\n",
    "pd.options.display.float_format = '{:.3f}'.format"
   ]
  },
  {
   "cell_type": "code",
   "execution_count": 3,
   "metadata": {},
   "outputs": [],
   "source": [
    "# зададим переменную с начальным состоянием генератора случайности для использования в моделях и рэндомсёрче\n",
    "random_state = 42"
   ]
  },
  {
   "cell_type": "markdown",
   "metadata": {},
   "source": [
    "### Загрузка и знакомство с данными"
   ]
  },
  {
   "cell_type": "code",
   "execution_count": 45,
   "metadata": {},
   "outputs": [],
   "source": [
    "# вывод полного текста\n",
    "pd.set_option(\"display.max_colwidth\", 100)\n",
    "\n",
    "# откроем файл с историчекими данными\n",
    "# возможные пути расположения файла\n",
    "server_path = '/datasets/toxic_comments.csv'  \n",
    "local_path = 'toxic_comments.csv'\n",
    "colab_path = '/content/toxic_comments.csv'\n",
    "\n",
    "if os.path.exists(server_path):\n",
    "    df_original = pd.read_csv(server_path, index_col=[0]) # первый столбец сделали индексом\n",
    "elif os.path.exists(local_path):\n",
    "    df_original = pd.read_csv(local_path, index_col=[0])\n",
    "elif os.path.exists(colab_path):\n",
    "    df_original = pd.read_csv(colab_path, index_col=[0])\n",
    "else:\n",
    "    'Неправильно указан путь к файлу'"
   ]
  },
  {
   "cell_type": "code",
   "execution_count": 46,
   "metadata": {},
   "outputs": [
    {
     "data": {
      "text/html": [
       "<div>\n",
       "<style scoped>\n",
       "    .dataframe tbody tr th:only-of-type {\n",
       "        vertical-align: middle;\n",
       "    }\n",
       "\n",
       "    .dataframe tbody tr th {\n",
       "        vertical-align: top;\n",
       "    }\n",
       "\n",
       "    .dataframe thead th {\n",
       "        text-align: right;\n",
       "    }\n",
       "</style>\n",
       "<table border=\"1\" class=\"dataframe\">\n",
       "  <thead>\n",
       "    <tr style=\"text-align: right;\">\n",
       "      <th></th>\n",
       "      <th>text</th>\n",
       "      <th>toxic</th>\n",
       "    </tr>\n",
       "  </thead>\n",
       "  <tbody>\n",
       "    <tr>\n",
       "      <th>0</th>\n",
       "      <td>Explanation\\nWhy the edits made under my username Hardcore Metallica Fan were reverted? They wer...</td>\n",
       "      <td>0</td>\n",
       "    </tr>\n",
       "    <tr>\n",
       "      <th>1</th>\n",
       "      <td>D'aww! He matches this background colour I'm seemingly stuck with. Thanks.  (talk) 21:51, Januar...</td>\n",
       "      <td>0</td>\n",
       "    </tr>\n",
       "    <tr>\n",
       "      <th>2</th>\n",
       "      <td>Hey man, I'm really not trying to edit war. It's just that this guy is constantly removing relev...</td>\n",
       "      <td>0</td>\n",
       "    </tr>\n",
       "    <tr>\n",
       "      <th>3</th>\n",
       "      <td>\"\\nMore\\nI can't make any real suggestions on improvement - I wondered if the section statistics...</td>\n",
       "      <td>0</td>\n",
       "    </tr>\n",
       "    <tr>\n",
       "      <th>4</th>\n",
       "      <td>You, sir, are my hero. Any chance you remember what page that's on?</td>\n",
       "      <td>0</td>\n",
       "    </tr>\n",
       "    <tr>\n",
       "      <th>...</th>\n",
       "      <td>...</td>\n",
       "      <td>...</td>\n",
       "    </tr>\n",
       "    <tr>\n",
       "      <th>159446</th>\n",
       "      <td>\":::::And for the second time of asking, when your view completely contradicts the coverage in r...</td>\n",
       "      <td>0</td>\n",
       "    </tr>\n",
       "    <tr>\n",
       "      <th>159447</th>\n",
       "      <td>You should be ashamed of yourself \\n\\nThat is a horrible thing you put on my talk page.  128.61....</td>\n",
       "      <td>0</td>\n",
       "    </tr>\n",
       "    <tr>\n",
       "      <th>159448</th>\n",
       "      <td>Spitzer \\n\\nUmm, theres no actual article for prostitution ring.  - Crunch Captain.</td>\n",
       "      <td>0</td>\n",
       "    </tr>\n",
       "    <tr>\n",
       "      <th>159449</th>\n",
       "      <td>And it looks like it was actually you who put on the speedy to have the first version deleted no...</td>\n",
       "      <td>0</td>\n",
       "    </tr>\n",
       "    <tr>\n",
       "      <th>159450</th>\n",
       "      <td>\"\\nAnd ... I really don't think you understand.  I came here and my idea was bad right away.  Wh...</td>\n",
       "      <td>0</td>\n",
       "    </tr>\n",
       "  </tbody>\n",
       "</table>\n",
       "<p>159292 rows × 2 columns</p>\n",
       "</div>"
      ],
      "text/plain": [
       "                                                                                                       text  \\\n",
       "0       Explanation\\nWhy the edits made under my username Hardcore Metallica Fan were reverted? They wer...   \n",
       "1       D'aww! He matches this background colour I'm seemingly stuck with. Thanks.  (talk) 21:51, Januar...   \n",
       "2       Hey man, I'm really not trying to edit war. It's just that this guy is constantly removing relev...   \n",
       "3       \"\\nMore\\nI can't make any real suggestions on improvement - I wondered if the section statistics...   \n",
       "4                                       You, sir, are my hero. Any chance you remember what page that's on?   \n",
       "...                                                                                                     ...   \n",
       "159446  \":::::And for the second time of asking, when your view completely contradicts the coverage in r...   \n",
       "159447  You should be ashamed of yourself \\n\\nThat is a horrible thing you put on my talk page.  128.61....   \n",
       "159448                  Spitzer \\n\\nUmm, theres no actual article for prostitution ring.  - Crunch Captain.   \n",
       "159449  And it looks like it was actually you who put on the speedy to have the first version deleted no...   \n",
       "159450  \"\\nAnd ... I really don't think you understand.  I came here and my idea was bad right away.  Wh...   \n",
       "\n",
       "        toxic  \n",
       "0           0  \n",
       "1           0  \n",
       "2           0  \n",
       "3           0  \n",
       "4           0  \n",
       "...       ...  \n",
       "159446      0  \n",
       "159447      0  \n",
       "159448      0  \n",
       "159449      0  \n",
       "159450      0  \n",
       "\n",
       "[159292 rows x 2 columns]"
      ]
     },
     "execution_count": 46,
     "metadata": {},
     "output_type": "execute_result"
    }
   ],
   "source": [
    "# запишем датафрейм для работы, сохранив исходный, и посмотрим на содержимое\n",
    "df = df_original.copy()\n",
    "df"
   ]
  },
  {
   "cell_type": "markdown",
   "metadata": {},
   "source": [
    "В предоставленном датафрейме 159 292 объектов и 2 признака, включая целевой:\n",
    "- `text` - текст комментария на английском языке\n",
    "- `toxic` — целевой признак - токсичность комментария, где:\n",
    "    - `1` - токсичный\n",
    "    - `0` - нетоксичный"
   ]
  },
  {
   "cell_type": "code",
   "execution_count": 6,
   "metadata": {},
   "outputs": [
    {
     "name": "stdout",
     "output_type": "stream",
     "text": [
      "<class 'pandas.core.frame.DataFrame'>\n",
      "Int64Index: 159292 entries, 0 to 159450\n",
      "Data columns (total 2 columns):\n",
      " #   Column  Non-Null Count   Dtype \n",
      "---  ------  --------------   ----- \n",
      " 0   text    159292 non-null  object\n",
      " 1   toxic   159292 non-null  int64 \n",
      "dtypes: int64(1), object(1)\n",
      "memory usage: 3.6+ MB\n"
     ]
    }
   ],
   "source": [
    "# посмотрим пропуски и типы данных\n",
    "df.info()"
   ]
  },
  {
   "cell_type": "code",
   "execution_count": 7,
   "metadata": {},
   "outputs": [
    {
     "data": {
      "text/plain": [
       "'Количество дубликатов: 0'"
      ]
     },
     "execution_count": 7,
     "metadata": {},
     "output_type": "execute_result"
    }
   ],
   "source": [
    "# проверим на явные дубликаты\n",
    "f'Количество дубликатов: {df.duplicated().sum()}'"
   ]
  },
  {
   "cell_type": "markdown",
   "metadata": {},
   "source": [
    "Дубликатов и пропусков нет. Типы данных подходящие.\n",
    "\n",
    "Посмотрим на распределение целевого признака"
   ]
  },
  {
   "cell_type": "code",
   "execution_count": 8,
   "metadata": {},
   "outputs": [
    {
     "data": {
      "text/plain": [
       "'Количество токсичных комментариев: 16186, доля 10.16%'"
      ]
     },
     "execution_count": 8,
     "metadata": {},
     "output_type": "execute_result"
    }
   ],
   "source": [
    "f'Количество токсичных комментариев: {df[\"toxic\"].sum()}, доля {df[\"toxic\"].mean() * 100 :.2f}%'"
   ]
  },
  {
   "cell_type": "markdown",
   "metadata": {},
   "source": [
    "Имеем дисбаланс классов - токсичных комментариев, которые нам нужно выявлять, всего 10%."
   ]
  },
  {
   "cell_type": "markdown",
   "metadata": {},
   "source": [
    "    \n",
    "#### сокращение выборки\n",
    "Сократим выборку для ускорения вычислительных операций (практически найдено, что 10% данных достаточно для достижения удовлетворительного качества модели)."
   ]
  },
  {
   "cell_type": "code",
   "execution_count": 47,
   "metadata": {},
   "outputs": [
    {
     "data": {
      "text/html": [
       "<div>\n",
       "<style scoped>\n",
       "    .dataframe tbody tr th:only-of-type {\n",
       "        vertical-align: middle;\n",
       "    }\n",
       "\n",
       "    .dataframe tbody tr th {\n",
       "        vertical-align: top;\n",
       "    }\n",
       "\n",
       "    .dataframe thead th {\n",
       "        text-align: right;\n",
       "    }\n",
       "</style>\n",
       "<table border=\"1\" class=\"dataframe\">\n",
       "  <thead>\n",
       "    <tr style=\"text-align: right;\">\n",
       "      <th></th>\n",
       "      <th>toxic</th>\n",
       "    </tr>\n",
       "  </thead>\n",
       "  <tbody>\n",
       "    <tr>\n",
       "      <th>count</th>\n",
       "      <td>15930.000</td>\n",
       "    </tr>\n",
       "    <tr>\n",
       "      <th>mean</th>\n",
       "      <td>0.102</td>\n",
       "    </tr>\n",
       "    <tr>\n",
       "      <th>std</th>\n",
       "      <td>0.302</td>\n",
       "    </tr>\n",
       "    <tr>\n",
       "      <th>min</th>\n",
       "      <td>0.000</td>\n",
       "    </tr>\n",
       "    <tr>\n",
       "      <th>25%</th>\n",
       "      <td>0.000</td>\n",
       "    </tr>\n",
       "    <tr>\n",
       "      <th>50%</th>\n",
       "      <td>0.000</td>\n",
       "    </tr>\n",
       "    <tr>\n",
       "      <th>75%</th>\n",
       "      <td>0.000</td>\n",
       "    </tr>\n",
       "    <tr>\n",
       "      <th>max</th>\n",
       "      <td>1.000</td>\n",
       "    </tr>\n",
       "  </tbody>\n",
       "</table>\n",
       "</div>"
      ],
      "text/plain": [
       "          toxic\n",
       "count 15930.000\n",
       "mean      0.102\n",
       "std       0.302\n",
       "min       0.000\n",
       "25%       0.000\n",
       "50%       0.000\n",
       "75%       0.000\n",
       "max       1.000"
      ]
     },
     "execution_count": 47,
     "metadata": {},
     "output_type": "execute_result"
    }
   ],
   "source": [
    "# отделим 2% с соблюдением распределения целевого признака\n",
    "df_useless, df_useful = train_test_split(df, \n",
    "                     random_state=random_state, \n",
    "                     test_size=0.1, \n",
    "                     stratify=df['toxic'])\n",
    "# перезапишем рабочий датасет на сокращённый\n",
    "df = df_useful\n",
    "df.describe()"
   ]
  },
  {
   "cell_type": "markdown",
   "metadata": {},
   "source": [
    "### Предобработка текста\n",
    "Прежде чем перейти к векторному представлению слов и обучению проводём очистку и предобработку текста:\n",
    "- Приведение текстов к нижнему регистру\n",
    "- Очистка от символов - оставляем только буквы, текст ссылок заменяем на слово \"сайт\"\n",
    "- Токенизация - разбиение на слова\n",
    "- Лемматизация - приводение к начальной словарной форме\n",
    "- Очистка от стоп-слов и ненужных символов\n",
    "\n",
    "Для предобработки текста напишем собственные функции `clean_text` и `lemmatize_spacy`"
   ]
  },
  {
   "cell_type": "code",
   "execution_count": 10,
   "metadata": {},
   "outputs": [],
   "source": [
    "# функция для очистки текста\n",
    "def clean_text(text):\n",
    "    # перевести текст в нижний регистр\n",
    "    text = text.lower()\n",
    "    \n",
    "    # заменим ссылки на слово \"сайт\"\n",
    "    text = re.sub('((www\\.[^\\s]+)|(https?://[^\\s]+))', 'сайт', text) # код скопировали\n",
    "    # обращение к пользователю заменяем на \"пользователь\"\n",
    "    text = re.sub('@[^\\s]+', 'пользователь', text)\n",
    "\n",
    "    # оставляем только буквы\n",
    "    text_only = re.sub(r'[^a-z]', ' ', text)\n",
    "\n",
    "    # Удаление стоп-слов\n",
    "    stop_words = set(stopwords.words('english')) # Используем стоп-слова на английском языке\n",
    "    cleaned_list = [word for word in text_only.split() if word not in stop_words]\n",
    "    \n",
    "    # Соединяем в текст \n",
    "    prepared_text = \" \".join(cleaned_list)\n",
    "    \n",
    "    return prepared_text"
   ]
  },
  {
   "cell_type": "code",
   "execution_count": 11,
   "metadata": {},
   "outputs": [],
   "source": [
    "# функция для лемматизации столбца с текстом\n",
    "def lemmatize_spacy(text_col):\n",
    "    nlp = spacy.load('en_core_web_sm')\n",
    "    \n",
    "    new_corpus = []\n",
    "\n",
    "    for doc in tqdm(nlp.pipe(text_col, \n",
    "                             batch_size=64, \n",
    "                             n_process=-1, \n",
    "                             disable=[\"parser\", \"ner\"]), # убрали лишние операции\n",
    "                    total=len(text_col)):\n",
    "        word_list = [tok.lemma_ for tok in doc]\n",
    "        new_corpus.append(' '.join(word_list))\n",
    "    return new_corpus\n"
   ]
  },
  {
   "cell_type": "code",
   "execution_count": 48,
   "metadata": {},
   "outputs": [
    {
     "name": "stdout",
     "output_type": "stream",
     "text": [
      "Очистка текста:\n"
     ]
    },
    {
     "name": "stderr",
     "output_type": "stream",
     "text": [
      "100%|██████████| 15930/15930 [00:04<00:00, 3266.60it/s]\n"
     ]
    },
    {
     "name": "stdout",
     "output_type": "stream",
     "text": [
      "Лемматизация текста:\n"
     ]
    },
    {
     "name": "stderr",
     "output_type": "stream",
     "text": [
      "100%|██████████| 15930/15930 [01:38<00:00, 162.41it/s]\n"
     ]
    },
    {
     "data": {
      "text/html": [
       "<div>\n",
       "<style scoped>\n",
       "    .dataframe tbody tr th:only-of-type {\n",
       "        vertical-align: middle;\n",
       "    }\n",
       "\n",
       "    .dataframe tbody tr th {\n",
       "        vertical-align: top;\n",
       "    }\n",
       "\n",
       "    .dataframe thead th {\n",
       "        text-align: right;\n",
       "    }\n",
       "</style>\n",
       "<table border=\"1\" class=\"dataframe\">\n",
       "  <thead>\n",
       "    <tr style=\"text-align: right;\">\n",
       "      <th></th>\n",
       "      <th>text</th>\n",
       "      <th>toxic</th>\n",
       "      <th>prepared_text</th>\n",
       "    </tr>\n",
       "  </thead>\n",
       "  <tbody>\n",
       "    <tr>\n",
       "      <th>151009</th>\n",
       "      <td>\"\\n Ok, an seems pretty clear by now what editor is responsible here. Amalthea \"</td>\n",
       "      <td>0</td>\n",
       "      <td>ok seem pretty clear editor responsible amalthea</td>\n",
       "    </tr>\n",
       "    <tr>\n",
       "      <th>30615</th>\n",
       "      <td>Proposal for standard infobox for History of [country] templates\\n\\nHi there! You're a member of...</td>\n",
       "      <td>0</td>\n",
       "      <td>proposal standard infobox history country template hi member wikiproject history inform proposal...</td>\n",
       "    </tr>\n",
       "    <tr>\n",
       "      <th>35343</th>\n",
       "      <td>\"\\n\\n Hi, Pompous Ass!  ;) \\n\\nI know you think you're some kind of poker authority on Wikipedia...</td>\n",
       "      <td>1</td>\n",
       "      <td>hi pompous ass know think kind poker authority wikipedia somehow perogative give imperial final ...</td>\n",
       "    </tr>\n",
       "    <tr>\n",
       "      <th>156814</th>\n",
       "      <td>I am under attack! \\n\\nYou guys are censoring any opinion that you do not agree with! And you ha...</td>\n",
       "      <td>0</td>\n",
       "      <td>attack guy censoring opinion agree respond proof point view</td>\n",
       "    </tr>\n",
       "    <tr>\n",
       "      <th>97214</th>\n",
       "      <td>Why include Peter and Emerich?==\\n\\nPeter the Hermit and Emerich's respective endeavours really ...</td>\n",
       "      <td>0</td>\n",
       "      <td>include peter emerich peter hermit emerich respective endeavour really nothing actual first crus...</td>\n",
       "    </tr>\n",
       "  </tbody>\n",
       "</table>\n",
       "</div>"
      ],
      "text/plain": [
       "                                                                                                       text  \\\n",
       "151009                     \"\\n Ok, an seems pretty clear by now what editor is responsible here. Amalthea \"   \n",
       "30615   Proposal for standard infobox for History of [country] templates\\n\\nHi there! You're a member of...   \n",
       "35343   \"\\n\\n Hi, Pompous Ass!  ;) \\n\\nI know you think you're some kind of poker authority on Wikipedia...   \n",
       "156814  I am under attack! \\n\\nYou guys are censoring any opinion that you do not agree with! And you ha...   \n",
       "97214   Why include Peter and Emerich?==\\n\\nPeter the Hermit and Emerich's respective endeavours really ...   \n",
       "\n",
       "        toxic  \\\n",
       "151009      0   \n",
       "30615       0   \n",
       "35343       1   \n",
       "156814      0   \n",
       "97214       0   \n",
       "\n",
       "                                                                                              prepared_text  \n",
       "151009                                                     ok seem pretty clear editor responsible amalthea  \n",
       "30615   proposal standard infobox history country template hi member wikiproject history inform proposal...  \n",
       "35343   hi pompous ass know think kind poker authority wikipedia somehow perogative give imperial final ...  \n",
       "156814                                          attack guy censoring opinion agree respond proof point view  \n",
       "97214   include peter emerich peter hermit emerich respective endeavour really nothing actual first crus...  "
      ]
     },
     "execution_count": 48,
     "metadata": {},
     "output_type": "execute_result"
    }
   ],
   "source": [
    "# очистка текста - применим функцию к каждому элементу столбца \n",
    "print('Очистка текста:')\n",
    "df['prepared_text'] = df['text'].progress_apply(lambda x: clean_text(x))\n",
    "# лемматизация текста - применим функцию ко всему столбцу\n",
    "print('Лемматизация текста:')\n",
    "df['prepared_text'] = lemmatize_spacy(df['prepared_text'])\n",
    "\n",
    "df.head()"
   ]
  },
  {
   "cell_type": "code",
   "execution_count": 13,
   "metadata": {},
   "outputs": [],
   "source": [
    "#  второй способ лемматизации, выполняется дольше\n",
    "# # вспомогательная функция для лемматизации\n",
    "# # функция для добавления pos-тега (части речи) для работы nltk-лемматизатора \n",
    "# def get_wordnet_pos(word):\n",
    "#     tag = nltk.pos_tag([word])[0][1][0].upper() # определяет pos-тег слова, берёт из него часть речи (вторую букву)\n",
    "#     # словарь для присваивания части речи\n",
    "#     tag_dict = {\"J\": wordnet.ADJ, \n",
    "#                 \"N\": wordnet.NOUN,\n",
    "#                 \"V\": wordnet.VERB,\n",
    "#                 \"R\": wordnet.ADV}\n",
    "#     # возвращает из словаря обозначение нужной части речи по вычисленному тегу, при отсутствии тега, вернёт существительное\n",
    "#     return tag_dict.get(tag, wordnet.NOUN) \n",
    "\n",
    "# # функция для очистки текста\n",
    "# def preprocess_text(text):\n",
    "#     # перевести текст в нижний регистр\n",
    "#     text = text.lower()\n",
    "    \n",
    "#     # заменим ссылки на слово \"сайт\"\n",
    "#     #text = re.sub('((www\\.[^\\s]+)|(https?://[^\\s]+))', 'сайт', text) # код скопировали\n",
    "#     # обращение к пользователю заменяем на \"пользователь\"\n",
    "#     #text = re.sub('@[^\\s]+', 'пользователь', text)\n",
    "\n",
    "#     # оставляем только буквы\n",
    "#     text_only = re.sub(r'[^a-z]', ' ', text)\n",
    "    \n",
    "#     # Токенизация текста для дальнейшей лемматизации\n",
    "#     tokenized = nltk.word_tokenize(text_only)\n",
    "    \n",
    "    \n",
    "#     # Создаем экземпляр лемматизатора\n",
    "#     lemmatizer = WordNetLemmatizer()\n",
    "#     # Лемматизация с соответствующим pos-тегом\n",
    "#     lemm_list = [lemmatizer.lemmatize(word, get_wordnet_pos(word)) for word in tokenized]\n",
    "    \n",
    "   \n",
    "#     Удаление стоп-слов\n",
    "#     stop_words = set(stopwords.words('english')) # Используем стоп-слова на английском языке\n",
    "#     cleaned_list = [word for word in lemm_list if word not in stop_words]\n",
    "    \n",
    "#     # Соединяем в текст \n",
    "#     prepared_text = \" \".join(cleaned_list)\n",
    "    \n",
    "#     return prepared_text"
   ]
  },
  {
   "cell_type": "markdown",
   "metadata": {},
   "source": [
    "### Деление на выборки\n",
    "Перед векторизацией разделим выборки, чтобы избежать утечки данных"
   ]
  },
  {
   "cell_type": "code",
   "execution_count": 49,
   "metadata": {},
   "outputs": [],
   "source": [
    "# целевой признак\n",
    "y = df['toxic']\n",
    "X = df['prepared_text']\n",
    "\n",
    "# разделим датасет на обучающуи тестовую выборки 85/15, сохранив распределение целевого признака\n",
    "X_train, X_test, y_train, y_test  = train_test_split(X, y,\n",
    "                                                     random_state=random_state, \n",
    "                                                     test_size=0.15, \n",
    "                                                     stratify=y)"
   ]
  },
  {
   "cell_type": "code",
   "execution_count": 50,
   "metadata": {},
   "outputs": [
    {
     "name": "stdout",
     "output_type": "stream",
     "text": [
      "Обучающая выборка: 13540, 0.102, \n",
      "Тестовая выборка: 2390, 0.102\n"
     ]
    }
   ],
   "source": [
    "# проверим распределение целевого признака в выборках и их размеры\n",
    "print(f\"\"\"Обучающая выборка: {y_train.shape[0]}, {y_train.mean():.3f}, \n",
    "Тестовая выборка: {y_test.shape[0]}, {y_test.mean():.3f}\"\"\")"
   ]
  },
  {
   "cell_type": "markdown",
   "metadata": {},
   "source": [
    "### Векторное представление\n",
    "Подготовленный текст передадим алгоритмам, которые переведут их в векторные представления. Для этого модель обращается к составленному заранее словарю токенов. На выходе для каждого текста образуются вектор заданной длины.\n",
    "\n",
    "\n",
    "В рамках задачи попробуем подобрать наиболее эффективное векторное представление. Рассмотрим варианты:\n",
    "1. Bag of words, Bag of words с биграммами и триграммами, TF-IDF, TF-IFD c биграммами и триграммами\n",
    "\n",
    "Подберём лучший вариан обучением логистической регрессии"
   ]
  },
  {
   "cell_type": "code",
   "execution_count": 51,
   "metadata": {},
   "outputs": [
    {
     "name": "stdout",
     "output_type": "stream",
     "text": [
      "Fitting 5 folds for each of 10 candidates, totalling 50 fits\n",
      "Best parameters: {'vectorizer__ngram_range': (1, 1), 'vectorizer': TfidfVectorizer(), 'logreg__max_iter': 300, 'logreg__C': 9}\n",
      "Best score: 0.6887688884393028\n"
     ]
    }
   ],
   "source": [
    "# константное разбиение на фолды для кросс-валидации с соблюдением распределения целевого признака\n",
    "kf = StratifiedKFold(n_splits=5, random_state=random_state, shuffle=True)\n",
    "\n",
    "# пайплайн для векторизации TfidfVectorizer\n",
    "pipeline_vec = Pipeline([\n",
    "    ('vectorizer', TfidfVectorizer()),\n",
    "    ('logreg', LogisticRegression(random_state=random_state))\n",
    "])\n",
    "\n",
    "# подбираем параметры для векторизации\n",
    "parameters = {\n",
    "    'vectorizer': [ TfidfVectorizer()],\n",
    "#     'vectorizer__max_df': np.linspace(0.2, 0.98),\n",
    "    'vectorizer__ngram_range':  [(1, 1), (1, 2), (1, 3)],\n",
    "    'logreg__C': ['balanced', None],\n",
    "    'logreg__C': range(1, 10),\n",
    "    'logreg__max_iter': [300]\n",
    "                }\n",
    "\n",
    "rand_search_vec = RandomizedSearchCV(pipeline_vec, parameters, cv=kf, n_iter=10, n_jobs=-1, scoring='f1', verbose=1,\n",
    "                                      random_state=random_state)\n",
    "rand_search_vec.fit(X_train, y_train)\n",
    "\n",
    "# Вывод наилучших параметров и оценки\n",
    "print(\"Best parameters:\", rand_search_vec.best_params_)\n",
    "print(\"Best score:\", rand_search_vec.best_score_)"
   ]
  },
  {
   "cell_type": "markdown",
   "metadata": {},
   "source": [
    "\n",
    "Лучше всего в комбинации с логистической регрессией отработали мешок слов и TF-IDF без биграмм. \n",
    "Для дальнейшей работы выберем векторизацию TF-IDF, так как этот алгоритм ещё учитывает важность слов в контексте всего корпуса текстов."
   ]
  },
  {
   "cell_type": "markdown",
   "metadata": {},
   "source": [
    "## Обучение\n",
    "Перед нами стоит задача бинарной классификации, метод обучения с учителем. Модели будут обучаться на векторных представлениях текстов.\n",
    "Наша модель должна прогнозировать эмоциональную окраску текста — 0 («положительная») или 1 («отрицательная»). \n",
    "\n",
    "Для оценки качества и выбора лучшей модели будем использовать F1-меру. \n",
    "\n",
    "Для поиска лучшего решения протестируем:\n",
    "- LogisticRegression\n",
    "- LinearSVC\n",
    "- SGDClassifier\n",
    "- Градиентный бустинг CatBoost\n",
    "\n",
    "Для линейных моделей сделаем подбор гиперпараметров с помощью RandomizedSearchCV.  \n",
    "Гоадиентный бустинг обучим без подбора гиперпараметров на векторизированном тексте.\n",
    "\n",
    "Чтобы устранить влияние дисбаланса класса при обучении попробуем настроить гиперпараметр `class_weight`"
   ]
  },
  {
   "cell_type": "code",
   "execution_count": 52,
   "metadata": {},
   "outputs": [],
   "source": [
    "# функция для подбора ГП  и рассчёта метрики на кросс-валидации\n",
    "def rs_func(pipe, params):\n",
    "    # кросс-валидация будет делить на 5 частей, оцениваем по f1\n",
    "    rand_search = RandomizedSearchCV(pipe, params, cv=kf, n_jobs=-1, scoring='f1', verbose=1, \n",
    "                                      error_score=0, random_state=random_state, n_iter=10)\n",
    "    # обучаем на тренировочной выборке\n",
    "    rand_search.fit(X_train, y_train)\n",
    "    # зафиксируем лучшую модель и метрику в переменной\n",
    "    f1, model_rs = rand_search.best_score_, rand_search\n",
    "    return f1, model_rs"
   ]
  },
  {
   "cell_type": "markdown",
   "metadata": {},
   "source": [
    "### Логистическая регрессия"
   ]
  },
  {
   "cell_type": "code",
   "execution_count": 53,
   "metadata": {},
   "outputs": [
    {
     "name": "stdout",
     "output_type": "stream",
     "text": [
      "Fitting 5 folds for each of 10 candidates, totalling 50 fits\n"
     ]
    },
    {
     "data": {
      "text/plain": [
       "(0.7309505321200525,\n",
       " {'logr__penalty': 'l2',\n",
       "  'logr__max_iter': 800,\n",
       "  'logr__class_weight': 'balanced',\n",
       "  'logr__C': 13.25})"
      ]
     },
     "execution_count": 53,
     "metadata": {},
     "output_type": "execute_result"
    }
   ],
   "source": [
    "# пайплайн для логистической регрессии\n",
    "pipeline_logr = Pipeline([\n",
    "    ('tfidf', TfidfVectorizer()),\n",
    "    ('logr', LogisticRegression(random_state=random_state))\n",
    "])\n",
    "\n",
    "# перебор параметров для модели\n",
    "params_logr = {'logr__class_weight' : [None, 'balanced'],\n",
    "                'logr__max_iter': [200, 300, 500, 800],\n",
    "                'logr__C': np.arange(.0, 15, 0.25),\n",
    "                'logr__penalty' : ['l1', 'l2', 'elasticnet']}\n",
    "\n",
    "\n",
    "f1_logr, model_logr_rs = rs_func(pipeline_logr, params_logr)\n",
    "f1_logr, model_logr_rs.best_params_"
   ]
  },
  {
   "cell_type": "markdown",
   "metadata": {},
   "source": [
    "### LinearSVC \n",
    "Линейный метод опорных векторов с поддержкой классификации, стремится найти оптимальную разделяющую гиперплоскость между классами."
   ]
  },
  {
   "cell_type": "code",
   "execution_count": 54,
   "metadata": {},
   "outputs": [
    {
     "name": "stdout",
     "output_type": "stream",
     "text": [
      "Fitting 5 folds for each of 10 candidates, totalling 50 fits\n"
     ]
    },
    {
     "data": {
      "text/plain": [
       "(0.7269131226680161,\n",
       " {'svc__penalty': 'l2',\n",
       "  'svc__loss': 'squared_hinge',\n",
       "  'svc__dual': False,\n",
       "  'svc__class_weight': 'balanced',\n",
       "  'svc__C': 0.25})"
      ]
     },
     "execution_count": 54,
     "metadata": {},
     "output_type": "execute_result"
    }
   ],
   "source": [
    "\n",
    "# пайплайн для LinearSVC\n",
    "pipeline_svc = Pipeline([\n",
    "    ('tfidf', TfidfVectorizer()),\n",
    "    ('svc', LinearSVC(random_state=random_state))\n",
    "])\n",
    "\n",
    "# перебор параметров для модели\n",
    "params_svc = {'svc__class_weight' : [None, 'balanced'],\n",
    "                'svc__loss': ['hinge', 'squared_hinge'],\n",
    "                'svc__C': np.arange(0.25, 3.01, 0.25),\n",
    "                'svc__penalty' : ['l1', 'l2'],\n",
    "                'svc__dual' : [True, False]}\n",
    "\n",
    "\n",
    "f1_svc, model_svc_rs = rs_func(pipeline_svc, params_svc)\n",
    "\n",
    "f1_svc, model_svc_rs.best_params_"
   ]
  },
  {
   "cell_type": "markdown",
   "metadata": {},
   "source": [
    "### SGDClassifier\n",
    "Модель SGDClassifier - линейная модель классификации, обучаемая с использованием стохастического градиентного спуска. Она отличается от классического LinearSVC тем, что обновление параметров модели происходит на каждом примере обучающего набора, в отличие от обновления на каждой эпохе."
   ]
  },
  {
   "cell_type": "code",
   "execution_count": 55,
   "metadata": {},
   "outputs": [
    {
     "name": "stdout",
     "output_type": "stream",
     "text": [
      "Fitting 5 folds for each of 10 candidates, totalling 50 fits\n"
     ]
    },
    {
     "name": "stderr",
     "output_type": "stream",
     "text": [
      "/Users/thetonytime/anaconda3/envs/ds_practicum_env/lib/python3.9/site-packages/sklearn/linear_model/_stochastic_gradient.py:163: FutureWarning: The loss 'log' was deprecated in v1.1 and will be removed in version 1.3. Use `loss='log_loss'` which is equivalent.\n",
      "  warnings.warn(\n",
      "/Users/thetonytime/anaconda3/envs/ds_practicum_env/lib/python3.9/site-packages/sklearn/linear_model/_stochastic_gradient.py:163: FutureWarning: The loss 'log' was deprecated in v1.1 and will be removed in version 1.3. Use `loss='log_loss'` which is equivalent.\n",
      "  warnings.warn(\n",
      "/Users/thetonytime/anaconda3/envs/ds_practicum_env/lib/python3.9/site-packages/sklearn/linear_model/_stochastic_gradient.py:163: FutureWarning: The loss 'log' was deprecated in v1.1 and will be removed in version 1.3. Use `loss='log_loss'` which is equivalent.\n",
      "  warnings.warn(\n",
      "/Users/thetonytime/anaconda3/envs/ds_practicum_env/lib/python3.9/site-packages/sklearn/linear_model/_stochastic_gradient.py:163: FutureWarning: The loss 'log' was deprecated in v1.1 and will be removed in version 1.3. Use `loss='log_loss'` which is equivalent.\n",
      "  warnings.warn(\n",
      "/Users/thetonytime/anaconda3/envs/ds_practicum_env/lib/python3.9/site-packages/sklearn/linear_model/_stochastic_gradient.py:163: FutureWarning: The loss 'log' was deprecated in v1.1 and will be removed in version 1.3. Use `loss='log_loss'` which is equivalent.\n",
      "  warnings.warn(\n",
      "/Users/thetonytime/anaconda3/envs/ds_practicum_env/lib/python3.9/site-packages/sklearn/linear_model/_stochastic_gradient.py:163: FutureWarning: The loss 'log' was deprecated in v1.1 and will be removed in version 1.3. Use `loss='log_loss'` which is equivalent.\n",
      "  warnings.warn(\n",
      "/Users/thetonytime/anaconda3/envs/ds_practicum_env/lib/python3.9/site-packages/sklearn/linear_model/_stochastic_gradient.py:163: FutureWarning: The loss 'log' was deprecated in v1.1 and will be removed in version 1.3. Use `loss='log_loss'` which is equivalent.\n",
      "  warnings.warn(\n",
      "/Users/thetonytime/anaconda3/envs/ds_practicum_env/lib/python3.9/site-packages/sklearn/linear_model/_stochastic_gradient.py:163: FutureWarning: The loss 'log' was deprecated in v1.1 and will be removed in version 1.3. Use `loss='log_loss'` which is equivalent.\n",
      "  warnings.warn(\n",
      "/Users/thetonytime/anaconda3/envs/ds_practicum_env/lib/python3.9/site-packages/sklearn/linear_model/_stochastic_gradient.py:163: FutureWarning: The loss 'log' was deprecated in v1.1 and will be removed in version 1.3. Use `loss='log_loss'` which is equivalent.\n",
      "  warnings.warn(\n",
      "/Users/thetonytime/anaconda3/envs/ds_practicum_env/lib/python3.9/site-packages/sklearn/linear_model/_stochastic_gradient.py:163: FutureWarning: The loss 'log' was deprecated in v1.1 and will be removed in version 1.3. Use `loss='log_loss'` which is equivalent.\n",
      "  warnings.warn(\n",
      "/Users/thetonytime/anaconda3/envs/ds_practicum_env/lib/python3.9/site-packages/sklearn/linear_model/_stochastic_gradient.py:163: FutureWarning: The loss 'log' was deprecated in v1.1 and will be removed in version 1.3. Use `loss='log_loss'` which is equivalent.\n",
      "  warnings.warn(\n",
      "/Users/thetonytime/anaconda3/envs/ds_practicum_env/lib/python3.9/site-packages/sklearn/linear_model/_stochastic_gradient.py:163: FutureWarning: The loss 'log' was deprecated in v1.1 and will be removed in version 1.3. Use `loss='log_loss'` which is equivalent.\n",
      "  warnings.warn(\n",
      "/Users/thetonytime/anaconda3/envs/ds_practicum_env/lib/python3.9/site-packages/sklearn/linear_model/_stochastic_gradient.py:163: FutureWarning: The loss 'log' was deprecated in v1.1 and will be removed in version 1.3. Use `loss='log_loss'` which is equivalent.\n",
      "  warnings.warn(\n",
      "/Users/thetonytime/anaconda3/envs/ds_practicum_env/lib/python3.9/site-packages/sklearn/linear_model/_stochastic_gradient.py:163: FutureWarning: The loss 'log' was deprecated in v1.1 and will be removed in version 1.3. Use `loss='log_loss'` which is equivalent.\n",
      "  warnings.warn(\n",
      "/Users/thetonytime/anaconda3/envs/ds_practicum_env/lib/python3.9/site-packages/sklearn/linear_model/_stochastic_gradient.py:163: FutureWarning: The loss 'log' was deprecated in v1.1 and will be removed in version 1.3. Use `loss='log_loss'` which is equivalent.\n",
      "  warnings.warn(\n"
     ]
    },
    {
     "data": {
      "text/plain": [
       "(0.7185746473480423,\n",
       " {'sgd__penalty': 'l2',\n",
       "  'sgd__loss': 'hinge',\n",
       "  'sgd__class_weight': 'balanced',\n",
       "  'sgd__alpha': 0.0001})"
      ]
     },
     "execution_count": 55,
     "metadata": {},
     "output_type": "execute_result"
    }
   ],
   "source": [
    "\n",
    "# пайплайн для LinearSVC\n",
    "pipeline_sgd = Pipeline([\n",
    "    ('tfidf', TfidfVectorizer()),\n",
    "    ('sgd', SGDClassifier(random_state=random_state))\n",
    "])\n",
    "\n",
    "# перебор параметров для модели\n",
    "params_sgd = {'sgd__class_weight' : [None, 'balanced'],\n",
    "                'sgd__loss': ['hinge', 'log', 'modified_huber'],\n",
    "                'sgd__alpha': [0.0001, 0.0001, 0.001, 0.1, 1],\n",
    "                'sgd__penalty' : ['l1', 'l2', 'elasticnet']}\n",
    "\n",
    "\n",
    "f1_sgd, model_sgd_rs = rs_func(pipeline_sgd, params_sgd)\n",
    "f1_sgd, model_sgd_rs.best_params_"
   ]
  },
  {
   "cell_type": "markdown",
   "metadata": {},
   "source": [
    "#### Градиентный бустинг CatBoost\n",
    "Градиентный бустинг CatBoost обучим без подбора гиперпараметров на вектоизированной тренировочной выборке TF-IDF\n"
   ]
  },
  {
   "cell_type": "code",
   "execution_count": 21,
   "metadata": {},
   "outputs": [
    {
     "name": "stdout",
     "output_type": "stream",
     "text": [
      "Fitting 5 folds for each of 1 candidates, totalling 5 fits\n"
     ]
    },
    {
     "data": {
      "text/plain": [
       "(0.7370074807723123,\n",
       " {'gbc__iterations': 200, 'gbc__auto_class_weights': 'Balanced'})"
      ]
     },
     "execution_count": 21,
     "metadata": {},
     "output_type": "execute_result"
    }
   ],
   "source": [
    "\n",
    "# пайплайн для CatBoostClassifier\n",
    "pipeline_gbc = Pipeline([\n",
    "    ('tfidf', TfidfVectorizer()),\n",
    "    ('gbc', cb.CatBoostClassifier(random_state=random_state, silent=True))\n",
    "])\n",
    "\n",
    "# перебор параметров для модели\n",
    "params_gbc = {'gbc__auto_class_weights' : ['Balanced'],\n",
    "                'gbc__iterations': [200]}\n",
    "\n",
    "\n",
    "f1_gbc, model_gbc_rs = rs_func(pipeline_gbc, params_gbc)\n",
    "f1_gbc, model_gbc_rs.best_params_"
   ]
  },
  {
   "cell_type": "markdown",
   "metadata": {},
   "source": [
    "Результаты испытаний всех моделей"
   ]
  },
  {
   "cell_type": "code",
   "execution_count": 30,
   "metadata": {},
   "outputs": [
    {
     "data": {
      "text/html": [
       "<div>\n",
       "<style scoped>\n",
       "    .dataframe tbody tr th:only-of-type {\n",
       "        vertical-align: middle;\n",
       "    }\n",
       "\n",
       "    .dataframe tbody tr th {\n",
       "        vertical-align: top;\n",
       "    }\n",
       "\n",
       "    .dataframe thead th {\n",
       "        text-align: right;\n",
       "    }\n",
       "</style>\n",
       "<table border=\"1\" class=\"dataframe\">\n",
       "  <thead>\n",
       "    <tr style=\"text-align: right;\">\n",
       "      <th></th>\n",
       "      <th>F1</th>\n",
       "    </tr>\n",
       "  </thead>\n",
       "  <tbody>\n",
       "    <tr>\n",
       "      <th>LogisticRegression</th>\n",
       "      <td>0.745</td>\n",
       "    </tr>\n",
       "    <tr>\n",
       "      <th>LinearSVC</th>\n",
       "      <td>0.746</td>\n",
       "    </tr>\n",
       "    <tr>\n",
       "      <th>SGDClassifier</th>\n",
       "      <td>0.711</td>\n",
       "    </tr>\n",
       "    <tr>\n",
       "      <th>CatBoost</th>\n",
       "      <td>0.737</td>\n",
       "    </tr>\n",
       "  </tbody>\n",
       "</table>\n",
       "</div>"
      ],
      "text/plain": [
       "                      F1\n",
       "LogisticRegression 0.745\n",
       "LinearSVC          0.746\n",
       "SGDClassifier      0.711\n",
       "CatBoost           0.737"
      ]
     },
     "execution_count": 30,
     "metadata": {},
     "output_type": "execute_result"
    }
   ],
   "source": [
    "results_table = pd.DataFrame([ f1_logr, f1_svc, f1_sgd, f1_gbc],\n",
    "                            columns=[ 'F1'],\n",
    "                            index=['LogisticRegression', 'LinearSVC', 'SGDClassifier', 'CatBoost'])\n",
    "results_table"
   ]
  },
  {
   "cell_type": "markdown",
   "metadata": {},
   "source": [
    "Лучший результат на кросс-валидации показала модель LogisticRegression."
   ]
  },
  {
   "cell_type": "markdown",
   "metadata": {},
   "source": [
    "### Тестирование модели\n",
    "Протестируем выбранную модель на ранее отложенной тестовой выборке.  \n"
   ]
  },
  {
   "cell_type": "code",
   "execution_count": 56,
   "metadata": {},
   "outputs": [
    {
     "data": {
      "text/html": [
       "<div>\n",
       "<style scoped>\n",
       "    .dataframe tbody tr th:only-of-type {\n",
       "        vertical-align: middle;\n",
       "    }\n",
       "\n",
       "    .dataframe tbody tr th {\n",
       "        vertical-align: top;\n",
       "    }\n",
       "\n",
       "    .dataframe thead th {\n",
       "        text-align: right;\n",
       "    }\n",
       "</style>\n",
       "<table border=\"1\" class=\"dataframe\">\n",
       "  <thead>\n",
       "    <tr style=\"text-align: right;\">\n",
       "      <th></th>\n",
       "      <th>F1</th>\n",
       "    </tr>\n",
       "  </thead>\n",
       "  <tbody>\n",
       "    <tr>\n",
       "      <th>LogisticRegression</th>\n",
       "      <td>0.745</td>\n",
       "    </tr>\n",
       "    <tr>\n",
       "      <th>LinearSVC</th>\n",
       "      <td>0.746</td>\n",
       "    </tr>\n",
       "    <tr>\n",
       "      <th>SGDClassifier</th>\n",
       "      <td>0.711</td>\n",
       "    </tr>\n",
       "    <tr>\n",
       "      <th>CatBoost</th>\n",
       "      <td>0.737</td>\n",
       "    </tr>\n",
       "    <tr>\n",
       "      <th>LogisticRegression_TEST</th>\n",
       "      <td>0.753</td>\n",
       "    </tr>\n",
       "  </tbody>\n",
       "</table>\n",
       "</div>"
      ],
      "text/plain": [
       "                           F1\n",
       "LogisticRegression      0.745\n",
       "LinearSVC               0.746\n",
       "SGDClassifier           0.711\n",
       "CatBoost                0.737\n",
       "LogisticRegression_TEST 0.753"
      ]
     },
     "execution_count": 56,
     "metadata": {},
     "output_type": "execute_result"
    }
   ],
   "source": [
    "# предсказания с помощью пайплайна с логистической регрессией\n",
    "y_pred = model_logr_rs.predict(X_test)\n",
    "\n",
    "# применим к тестовой выборке, добавим в сводую таблицу результат\n",
    "results_table.loc['LogisticRegression_TEST'] = f1_score(y_test, y_pred)\n",
    "results_table"
   ]
  },
  {
   "cell_type": "markdown",
   "metadata": {},
   "source": [
    "На новых данных модель показывает равнозначный результат. Посмотрим подробнее на матрице ошибок"
   ]
  },
  {
   "cell_type": "code",
   "execution_count": 58,
   "metadata": {},
   "outputs": [
    {
     "data": {
      "image/png": "[encoded data removed]",
      "text/plain": [
       "<Figure size 640x480 with 2 Axes>"
      ]
     },
     "metadata": {},
     "output_type": "display_data"
    }
   ],
   "source": [
    "# построим Confusion Matrix, отображение в долях\n",
    "cm = confusion_matrix(y_test, y_pred, normalize='true')\n",
    "ConfusionMatrixDisplay(confusion_matrix=cm).plot(cmap='GnBu')\n",
    "plt.title('Матрица ошибок модели LogisticRegression')\n",
    "plt.show()"
   ]
  },
  {
   "cell_type": "markdown",
   "metadata": {},
   "source": [
    "Модель ошибается в предсказании положительного класса (токсичный комментарий) в 27% и более точна в предсказании отрицательного (нетоксичный) 98%.\n",
    "\n",
    "Тест на адекватность - проверим, предсказывает ли наша модель лучше, чем константная.  \n",
    "Воспроизведём модель, которая всегда предсказывает, что комментарий токсичный."
   ]
  },
  {
   "cell_type": "code",
   "execution_count": 57,
   "metadata": {},
   "outputs": [
    {
     "data": {
      "text/html": [
       "<style  type=\"text/css\" >\n",
       "</style><table id=\"T_011fd_\" ><thead>    <tr>        <th class=\"blank level0\" ></th>        <th class=\"col_heading level0 col0\" >F1</th>    </tr></thead><tbody>\n",
       "                <tr>\n",
       "                        <th id=\"T_011fd_level0_row0\" class=\"row_heading level0 row0\" >LogisticRegression</th>\n",
       "                        <td id=\"T_011fd_row0_col0\" class=\"data row0 col0\" >0.75</td>\n",
       "            </tr>\n",
       "            <tr>\n",
       "                        <th id=\"T_011fd_level0_row1\" class=\"row_heading level0 row1\" >LinearSVC</th>\n",
       "                        <td id=\"T_011fd_row1_col0\" class=\"data row1 col0\" >0.75</td>\n",
       "            </tr>\n",
       "            <tr>\n",
       "                        <th id=\"T_011fd_level0_row2\" class=\"row_heading level0 row2\" >SGDClassifier</th>\n",
       "                        <td id=\"T_011fd_row2_col0\" class=\"data row2 col0\" >0.71</td>\n",
       "            </tr>\n",
       "            <tr>\n",
       "                        <th id=\"T_011fd_level0_row3\" class=\"row_heading level0 row3\" >CatBoost</th>\n",
       "                        <td id=\"T_011fd_row3_col0\" class=\"data row3 col0\" >0.74</td>\n",
       "            </tr>\n",
       "            <tr>\n",
       "                        <th id=\"T_011fd_level0_row4\" class=\"row_heading level0 row4\" >LogisticRegression_TEST</th>\n",
       "                        <td id=\"T_011fd_row4_col0\" class=\"data row4 col0\" >0.75</td>\n",
       "            </tr>\n",
       "            <tr>\n",
       "                        <th id=\"T_011fd_level0_row5\" class=\"row_heading level0 row5\" >Dummy</th>\n",
       "                        <td id=\"T_011fd_row5_col0\" class=\"data row5 col0\" >0.18</td>\n",
       "            </tr>\n",
       "    </tbody></table>"
      ],
      "text/plain": [
       "<pandas.io.formats.style.Styler at 0x7fd73d581f70>"
      ]
     },
     "execution_count": 57,
     "metadata": {},
     "output_type": "execute_result"
    }
   ],
   "source": [
    "# воспроизведём случай, что модель всегда предсказывает 1\n",
    "dummy = DummyClassifier(strategy='constant', constant=1)\n",
    "dummy.fit(X_train, y_train)\n",
    "dummy_pred = dummy.predict(X_test)\n",
    "\n",
    "results_table.loc['Dummy'] = f1_score(y_test, dummy.predict(X_test))\n",
    "results_table.style.set_precision(2)"
   ]
  },
  {
   "cell_type": "markdown",
   "metadata": {},
   "source": [
    "Выбранная модель LogisticRegression с подобранным набором гиперпараметров прошла финальное испытание:\n",
    "- F1-мера на тестовой выборке равно 0.75\n",
    "- Модель предсказывает лучше, чем случайная"
   ]
  },
  {
   "cell_type": "markdown",
   "metadata": {},
   "source": [
    "___\n",
    "\n",
    "## Итоги\n",
    "Перед была поставлена задача прогнозирования эмоциональной окраски текста комментария — 0 («положительная») или 1 («отрицательная») с целью отправки их на модерацию.\n",
    "\n",
    "Для исследования предоставлен набор данных, содержащий 159 292 текстов с разметкой о токсичности. В распределении целевого признака выявлен дисбаланс классов: всего 10% токсичных комментарив. \n",
    "\n",
    "Для обучения моделей текст предварительно был обработан:\n",
    "- очищен от символов, цифр, стоп-слов\n",
    "- лемматизарован\n",
    "- приведён к векторному представлению слов при помощи алгоритма TF-IDF - выбран один из 4-х рассмотренных вариантов\n",
    "\n",
    "Для поиска лучшего решения протестированы 4 модели: 3 линейные - LogisticRegression, LinearSVC, SGDClassifier, и градиентный бустинг CatBoost. Для устранения влияния дисбаланса классов при обучении использован гиперпараметр class_weight='balanced'.\n",
    "\n",
    "Для оценки качества использована метрика F1-мера. Заданное условие: F1-мера ≥ 0.75 на тестовой выборке.\n",
    "\n",
    "В результате исследования для решения задачи выбрана комбинация с моделью **TF-IDF + LogisticRegression** с подобранным набором гиперпараметров. Заданное условие качества модели достигнуто - F1-мера = 0.75.\n"
   ]
  }
 ],
 "metadata": {
  "ExecuteTimeLog": [
   {
    "duration": 4205,
    "start_time": "2023-06-14T16:24:34.026Z"
   },
   {
    "duration": 0,
    "start_time": "2023-06-14T16:24:38.233Z"
   },
   {
    "duration": 245,
    "start_time": "2023-06-14T16:24:50.445Z"
   },
   {
    "duration": 2518,
    "start_time": "2023-06-14T16:24:54.730Z"
   },
   {
    "duration": 23,
    "start_time": "2023-06-14T16:25:00.255Z"
   },
   {
    "duration": 939,
    "start_time": "2023-06-14T16:25:18.158Z"
   },
   {
    "duration": 13,
    "start_time": "2023-06-14T16:25:19.100Z"
   },
   {
    "duration": 862,
    "start_time": "2023-06-14T16:25:38.277Z"
   },
   {
    "duration": 14,
    "start_time": "2023-06-14T16:25:39.562Z"
   },
   {
    "duration": 864,
    "start_time": "2023-06-14T16:25:45.040Z"
   },
   {
    "duration": 12,
    "start_time": "2023-06-14T16:25:45.907Z"
   },
   {
    "duration": 990,
    "start_time": "2023-06-14T16:27:13.738Z"
   },
   {
    "duration": 16,
    "start_time": "2023-06-14T16:27:15.271Z"
   },
   {
    "duration": 1028,
    "start_time": "2023-06-14T16:27:23.627Z"
   },
   {
    "duration": 33,
    "start_time": "2023-06-14T16:27:24.657Z"
   },
   {
    "duration": 210,
    "start_time": "2023-06-14T16:28:36.747Z"
   },
   {
    "duration": 17,
    "start_time": "2023-06-14T16:28:37.084Z"
   },
   {
    "duration": 947,
    "start_time": "2023-06-14T16:28:42.447Z"
   },
   {
    "duration": 13,
    "start_time": "2023-06-14T16:28:43.397Z"
   },
   {
    "duration": 920,
    "start_time": "2023-06-14T16:28:55.096Z"
   },
   {
    "duration": 12,
    "start_time": "2023-06-14T16:29:02.304Z"
   },
   {
    "duration": 33,
    "start_time": "2023-06-14T16:29:35.412Z"
   },
   {
    "duration": 11,
    "start_time": "2023-06-14T16:29:35.804Z"
   },
   {
    "duration": 973,
    "start_time": "2023-06-14T16:29:51.757Z"
   },
   {
    "duration": 27,
    "start_time": "2023-06-14T16:29:52.961Z"
   },
   {
    "duration": 955,
    "start_time": "2023-06-14T16:30:00.901Z"
   },
   {
    "duration": 30,
    "start_time": "2023-06-14T16:30:01.866Z"
   },
   {
    "duration": 991,
    "start_time": "2023-06-14T16:30:06.854Z"
   },
   {
    "duration": 21,
    "start_time": "2023-06-14T16:30:07.847Z"
   },
   {
    "duration": 19,
    "start_time": "2023-06-14T16:30:24.662Z"
   },
   {
    "duration": 12,
    "start_time": "2023-06-14T16:30:29.501Z"
   },
   {
    "duration": 255,
    "start_time": "2023-06-14T16:30:33.740Z"
   },
   {
    "duration": 212,
    "start_time": "2023-06-14T16:30:38.382Z"
   },
   {
    "duration": 27984,
    "start_time": "2023-06-14T16:36:11.045Z"
   },
   {
    "duration": 854,
    "start_time": "2023-06-14T16:39:23.508Z"
   },
   {
    "duration": 223,
    "start_time": "2023-06-14T16:39:57.795Z"
   },
   {
    "duration": 7,
    "start_time": "2023-06-14T16:40:31.226Z"
   },
   {
    "duration": 93233,
    "start_time": "2023-06-14T16:41:49.415Z"
   },
   {
    "duration": 266490,
    "start_time": "2023-06-14T16:43:39.311Z"
   },
   {
    "duration": 68,
    "start_time": "2023-06-14T17:08:30.035Z"
   },
   {
    "duration": 7,
    "start_time": "2023-06-14T17:08:30.444Z"
   },
   {
    "duration": 8112,
    "start_time": "2023-06-14T17:08:33.409Z"
   },
   {
    "duration": 3304,
    "start_time": "2023-06-14T17:08:41.523Z"
   },
   {
    "duration": 10,
    "start_time": "2023-06-14T17:08:44.830Z"
   },
   {
    "duration": 3442,
    "start_time": "2023-06-14T17:08:44.843Z"
   },
   {
    "duration": 5719,
    "start_time": "2023-06-14T17:09:16.296Z"
   },
   {
    "duration": 197,
    "start_time": "2023-06-14T17:09:23.185Z"
   },
   {
    "duration": 261091,
    "start_time": "2023-06-14T17:09:25.938Z"
   },
   {
    "duration": 7,
    "start_time": "2023-06-14T17:16:04.698Z"
   },
   {
    "duration": 9,
    "start_time": "2023-06-14T17:16:06.215Z"
   },
   {
    "duration": 5,
    "start_time": "2023-06-14T17:16:08.092Z"
   },
   {
    "duration": 4,
    "start_time": "2023-06-14T17:16:10.085Z"
   },
   {
    "duration": 62,
    "start_time": "2023-06-14T17:16:20.911Z"
   },
   {
    "duration": 71,
    "start_time": "2023-06-14T17:16:26.536Z"
   },
   {
    "duration": 42,
    "start_time": "2023-06-14T17:16:41.034Z"
   },
   {
    "duration": 6,
    "start_time": "2023-06-14T17:17:21.661Z"
   },
   {
    "duration": 43,
    "start_time": "2023-06-14T17:17:22.604Z"
   },
   {
    "duration": 4,
    "start_time": "2023-06-14T17:18:02.880Z"
   },
   {
    "duration": 60014,
    "start_time": "2023-06-14T17:18:28.922Z"
   },
   {
    "duration": 7,
    "start_time": "2023-06-14T17:19:28.938Z"
   },
   {
    "duration": 7,
    "start_time": "2023-06-14T17:19:28.947Z"
   },
   {
    "duration": 52,
    "start_time": "2023-06-14T17:19:28.956Z"
   },
   {
    "duration": 251229,
    "start_time": "2023-06-14T17:19:37.217Z"
   },
   {
    "duration": 55,
    "start_time": "2023-06-14T17:23:48.447Z"
   },
   {
    "duration": 5,
    "start_time": "2023-06-14T17:23:51.149Z"
   },
   {
    "duration": 10,
    "start_time": "2023-06-14T17:23:52.685Z"
   },
   {
    "duration": 3,
    "start_time": "2023-06-14T17:23:58.631Z"
   },
   {
    "duration": 58,
    "start_time": "2023-06-14T17:23:59.843Z"
   },
   {
    "duration": 5,
    "start_time": "2023-06-14T17:24:14.422Z"
   },
   {
    "duration": 6,
    "start_time": "2023-06-14T17:24:38.510Z"
   },
   {
    "duration": 26,
    "start_time": "2023-06-14T17:24:45.754Z"
   },
   {
    "duration": 83,
    "start_time": "2023-06-14T17:27:21.681Z"
   },
   {
    "duration": 498,
    "start_time": "2023-06-14T17:27:40.993Z"
   },
   {
    "duration": 57,
    "start_time": "2023-06-14T17:30:01.849Z"
   },
   {
    "duration": 4473,
    "start_time": "2023-06-14T17:30:30.141Z"
   },
   {
    "duration": 2774,
    "start_time": "2023-06-14T17:30:34.616Z"
   },
   {
    "duration": 7,
    "start_time": "2023-06-14T17:30:37.392Z"
   },
   {
    "duration": 2429,
    "start_time": "2023-06-14T17:30:37.401Z"
   },
   {
    "duration": 253468,
    "start_time": "2023-06-14T17:30:45.484Z"
   },
   {
    "duration": 12,
    "start_time": "2023-06-14T17:34:58.964Z"
   },
   {
    "duration": 23,
    "start_time": "2023-06-14T17:34:58.978Z"
   },
   {
    "duration": 25,
    "start_time": "2023-06-14T17:34:59.003Z"
   },
   {
    "duration": 20702,
    "start_time": "2023-06-14T17:34:59.030Z"
   },
   {
    "duration": 604,
    "start_time": "2023-06-14T17:35:19.734Z"
   },
   {
    "duration": 0,
    "start_time": "2023-06-14T17:35:20.340Z"
   },
   {
    "duration": 53,
    "start_time": "2023-06-14T17:38:16.253Z"
   },
   {
    "duration": 61,
    "start_time": "2023-06-14T17:40:00.516Z"
   },
   {
    "duration": 3,
    "start_time": "2023-06-14T17:40:25.188Z"
   },
   {
    "duration": 43,
    "start_time": "2023-06-14T17:40:27.881Z"
   },
   {
    "duration": 6,
    "start_time": "2023-06-14T17:42:00.282Z"
   },
   {
    "duration": 38,
    "start_time": "2023-06-14T17:48:10.447Z"
   },
   {
    "duration": 62,
    "start_time": "2023-06-14T17:48:28.585Z"
   },
   {
    "duration": 47928,
    "start_time": "2023-06-14T17:49:11.876Z"
   },
   {
    "duration": 19,
    "start_time": "2023-06-14T17:50:14.932Z"
   },
   {
    "duration": 18,
    "start_time": "2023-06-14T17:54:24.186Z"
   },
   {
    "duration": 18,
    "start_time": "2023-06-14T17:55:10.409Z"
   },
   {
    "duration": 166317,
    "start_time": "2023-06-14T17:55:57.879Z"
   },
   {
    "duration": 255345,
    "start_time": "2023-06-14T17:58:50.420Z"
   },
   {
    "duration": 5,
    "start_time": "2023-06-14T18:03:46.784Z"
   },
   {
    "duration": 52,
    "start_time": "2023-06-14T18:03:59.583Z"
   },
   {
    "duration": 7,
    "start_time": "2023-06-14T18:04:05.784Z"
   },
   {
    "duration": 3,
    "start_time": "2023-06-14T18:04:06.464Z"
   },
   {
    "duration": 4,
    "start_time": "2023-06-14T18:04:06.903Z"
   },
   {
    "duration": 24,
    "start_time": "2023-06-14T18:04:12.674Z"
   },
   {
    "duration": 165,
    "start_time": "2023-06-14T18:38:11.265Z"
   },
   {
    "duration": 2406,
    "start_time": "2023-06-14T18:38:11.871Z"
   },
   {
    "duration": 7,
    "start_time": "2023-06-14T18:38:14.280Z"
   },
   {
    "duration": 1682,
    "start_time": "2023-06-14T18:38:15.105Z"
   },
   {
    "duration": 5,
    "start_time": "2023-06-14T18:38:30.060Z"
   },
   {
    "duration": 68,
    "start_time": "2023-06-14T18:38:59.212Z"
   },
   {
    "duration": 65,
    "start_time": "2023-06-14T18:39:06.811Z"
   },
   {
    "duration": 4578,
    "start_time": "2023-06-14T18:39:40.232Z"
   },
   {
    "duration": 2965,
    "start_time": "2023-06-14T18:39:44.816Z"
   },
   {
    "duration": 16,
    "start_time": "2023-06-14T18:39:47.783Z"
   },
   {
    "duration": 244850,
    "start_time": "2023-06-14T18:39:47.804Z"
   },
   {
    "duration": 1637,
    "start_time": "2023-06-14T18:43:52.656Z"
   },
   {
    "duration": 4648,
    "start_time": "2023-06-14T19:43:24.720Z"
   },
   {
    "duration": 2447,
    "start_time": "2023-06-14T19:43:29.371Z"
   },
   {
    "duration": 6,
    "start_time": "2023-06-14T19:43:31.820Z"
   },
   {
    "duration": 18652,
    "start_time": "2023-06-14T19:43:39.147Z"
   },
   {
    "duration": 76,
    "start_time": "2023-06-14T19:43:57.802Z"
   },
   {
    "duration": 19,
    "start_time": "2023-06-14T19:43:57.880Z"
   },
   {
    "duration": 0,
    "start_time": "2023-06-14T19:43:57.901Z"
   },
   {
    "duration": 17,
    "start_time": "2023-06-14T19:44:41.549Z"
   },
   {
    "duration": 16,
    "start_time": "2023-06-14T19:44:56.052Z"
   },
   {
    "duration": 14,
    "start_time": "2023-06-14T19:45:04.451Z"
   },
   {
    "duration": 7,
    "start_time": "2023-06-14T19:45:05.939Z"
   },
   {
    "duration": 70517,
    "start_time": "2023-06-14T19:45:08.084Z"
   },
   {
    "duration": 458,
    "start_time": "2023-06-14T19:46:18.603Z"
   },
   {
    "duration": 12433,
    "start_time": "2023-06-14T19:46:19.064Z"
   },
   {
    "duration": 1752,
    "start_time": "2023-06-14T19:46:31.499Z"
   },
   {
    "duration": 3,
    "start_time": "2023-06-14T19:46:33.253Z"
   },
   {
    "duration": 26,
    "start_time": "2023-06-14T19:46:33.258Z"
   },
   {
    "duration": 2972,
    "start_time": "2023-06-15T06:51:39.424Z"
   },
   {
    "duration": 3256,
    "start_time": "2023-06-15T06:51:42.399Z"
   },
   {
    "duration": 14,
    "start_time": "2023-06-15T06:51:45.657Z"
   },
   {
    "duration": 31,
    "start_time": "2023-06-15T06:51:45.674Z"
   },
   {
    "duration": 11,
    "start_time": "2023-06-15T06:51:45.706Z"
   },
   {
    "duration": 268,
    "start_time": "2023-06-15T06:51:45.719Z"
   },
   {
    "duration": 1724,
    "start_time": "2023-06-15T06:52:30.394Z"
   },
   {
    "duration": 75296,
    "start_time": "2023-06-15T06:52:36.025Z"
   },
   {
    "duration": 478,
    "start_time": "2023-06-15T06:54:43.351Z"
   },
   {
    "duration": 3030,
    "start_time": "2023-06-15T06:56:40.611Z"
   },
   {
    "duration": 213,
    "start_time": "2023-06-15T06:59:35.052Z"
   },
   {
    "duration": 6,
    "start_time": "2023-06-15T06:59:39.151Z"
   },
   {
    "duration": 1884,
    "start_time": "2023-06-15T06:59:39.159Z"
   },
   {
    "duration": 2505,
    "start_time": "2023-06-15T06:59:41.046Z"
   },
   {
    "duration": 15,
    "start_time": "2023-06-15T06:59:43.554Z"
   },
   {
    "duration": 37,
    "start_time": "2023-06-15T06:59:43.574Z"
   },
   {
    "duration": 8,
    "start_time": "2023-06-15T06:59:43.614Z"
   },
   {
    "duration": 216,
    "start_time": "2023-06-15T06:59:43.624Z"
   },
   {
    "duration": 15,
    "start_time": "2023-06-15T06:59:47.168Z"
   },
   {
    "duration": 8,
    "start_time": "2023-06-15T06:59:47.640Z"
   },
   {
    "duration": 23,
    "start_time": "2023-06-15T06:59:59.108Z"
   },
   {
    "duration": 10,
    "start_time": "2023-06-15T07:00:03.555Z"
   },
   {
    "duration": 7,
    "start_time": "2023-06-15T07:00:04.567Z"
   },
   {
    "duration": 3066,
    "start_time": "2023-06-15T07:00:06.899Z"
   },
   {
    "duration": 16,
    "start_time": "2023-06-15T07:00:26.231Z"
   },
   {
    "duration": 3837,
    "start_time": "2023-06-15T07:00:29.721Z"
   },
   {
    "duration": 27,
    "start_time": "2023-06-15T07:01:09.804Z"
   },
   {
    "duration": 3197,
    "start_time": "2023-06-15T07:01:12.665Z"
   },
   {
    "duration": 4,
    "start_time": "2023-06-15T07:08:36.894Z"
   },
   {
    "duration": 4,
    "start_time": "2023-06-15T07:08:45.404Z"
   },
   {
    "duration": 2829,
    "start_time": "2023-06-15T07:08:55.535Z"
   },
   {
    "duration": 77201,
    "start_time": "2023-06-15T07:09:19.160Z"
   },
   {
    "duration": 2382,
    "start_time": "2023-07-03T21:18:58.203Z"
   },
   {
    "duration": 2721,
    "start_time": "2023-07-03T21:19:00.587Z"
   },
   {
    "duration": 3,
    "start_time": "2023-07-03T21:19:03.310Z"
   },
   {
    "duration": 18,
    "start_time": "2023-07-03T21:19:03.315Z"
   },
   {
    "duration": 2584,
    "start_time": "2023-07-03T21:19:03.334Z"
   },
   {
    "duration": 19,
    "start_time": "2023-07-03T21:19:05.921Z"
   },
   {
    "duration": 38,
    "start_time": "2023-07-03T21:19:10.064Z"
   },
   {
    "duration": 245,
    "start_time": "2023-07-03T21:19:10.298Z"
   },
   {
    "duration": 7,
    "start_time": "2023-07-03T21:19:12.069Z"
   },
   {
    "duration": 82,
    "start_time": "2023-07-03T21:19:20.740Z"
   },
   {
    "duration": 6,
    "start_time": "2023-07-03T21:19:32.570Z"
   },
   {
    "duration": 4,
    "start_time": "2023-07-03T21:19:33.048Z"
   },
   {
    "duration": 3009,
    "start_time": "2023-07-03T21:20:03.378Z"
   },
   {
    "duration": 853,
    "start_time": "2023-07-03T21:23:32.936Z"
   },
   {
    "duration": 303824,
    "start_time": "2023-07-03T21:23:44.543Z"
   },
   {
    "duration": 159228,
    "start_time": "2023-07-03T21:30:05.141Z"
   },
   {
    "duration": 132,
    "start_time": "2023-07-03T21:33:41.785Z"
   },
   {
    "duration": 5,
    "start_time": "2023-07-03T21:33:52.031Z"
   },
   {
    "duration": 1145,
    "start_time": "2023-07-03T21:33:59.636Z"
   },
   {
    "duration": 7,
    "start_time": "2023-07-03T21:34:48.493Z"
   },
   {
    "duration": 1126,
    "start_time": "2023-07-03T21:34:50.640Z"
   },
   {
    "duration": 8,
    "start_time": "2023-07-03T21:38:47.994Z"
   },
   {
    "duration": 1212,
    "start_time": "2023-07-03T21:38:48.502Z"
   },
   {
    "duration": 5,
    "start_time": "2023-07-03T21:39:53.878Z"
   },
   {
    "duration": 1256,
    "start_time": "2023-07-03T21:39:54.793Z"
   },
   {
    "duration": 5,
    "start_time": "2023-07-03T21:40:35.828Z"
   },
   {
    "duration": 1165,
    "start_time": "2023-07-03T21:40:37.984Z"
   },
   {
    "duration": 160061,
    "start_time": "2023-07-03T21:41:10.321Z"
   },
   {
    "duration": 9,
    "start_time": "2023-07-03T21:43:56.807Z"
   },
   {
    "duration": 1898,
    "start_time": "2023-07-03T21:44:01.476Z"
   },
   {
    "duration": 6,
    "start_time": "2023-07-03T21:46:38.177Z"
   },
   {
    "duration": 2501,
    "start_time": "2023-07-03T21:46:38.833Z"
   },
   {
    "duration": 8,
    "start_time": "2023-07-03T21:46:52.922Z"
   },
   {
    "duration": 2522,
    "start_time": "2023-07-03T21:46:53.107Z"
   },
   {
    "duration": 6,
    "start_time": "2023-07-03T21:49:11.631Z"
   },
   {
    "duration": 1644,
    "start_time": "2023-07-03T21:49:12.558Z"
   },
   {
    "duration": 6,
    "start_time": "2023-07-03T21:49:32.290Z"
   },
   {
    "duration": 1761,
    "start_time": "2023-07-03T21:49:32.623Z"
   },
   {
    "duration": 6,
    "start_time": "2023-07-03T21:49:55.625Z"
   },
   {
    "duration": 1805,
    "start_time": "2023-07-03T21:49:55.882Z"
   },
   {
    "duration": 5,
    "start_time": "2023-07-03T21:50:47.908Z"
   },
   {
    "duration": 87475,
    "start_time": "2023-07-03T21:50:48.173Z"
   },
   {
    "duration": 5,
    "start_time": "2023-07-03T21:53:05.799Z"
   },
   {
    "duration": 804,
    "start_time": "2023-07-03T21:53:06.109Z"
   },
   {
    "duration": 4,
    "start_time": "2023-07-03T21:53:30.728Z"
   },
   {
    "duration": 15064,
    "start_time": "2023-07-03T21:53:30.928Z"
   },
   {
    "duration": 11,
    "start_time": "2023-07-04T07:19:30.429Z"
   },
   {
    "duration": 53,
    "start_time": "2023-07-04T07:19:44.795Z"
   },
   {
    "duration": 6770,
    "start_time": "2023-07-04T07:19:58.085Z"
   },
   {
    "duration": 362,
    "start_time": "2023-07-04T07:20:07.394Z"
   },
   {
    "duration": 582,
    "start_time": "2023-07-04T07:20:21.379Z"
   },
   {
    "duration": 24,
    "start_time": "2023-07-04T07:20:34.613Z"
   },
   {
    "duration": 2570,
    "start_time": "2023-07-04T07:20:46.426Z"
   },
   {
    "duration": 4866,
    "start_time": "2023-07-04T07:20:48.998Z"
   },
   {
    "duration": 5,
    "start_time": "2023-07-04T07:21:00.655Z"
   },
   {
    "duration": 3,
    "start_time": "2023-07-04T07:21:00.851Z"
   },
   {
    "duration": 3339,
    "start_time": "2023-07-04T07:21:01.258Z"
   },
   {
    "duration": 21,
    "start_time": "2023-07-04T07:21:04.599Z"
   },
   {
    "duration": 35,
    "start_time": "2023-07-04T07:21:11.504Z"
   },
   {
    "duration": 236,
    "start_time": "2023-07-04T07:21:11.707Z"
   },
   {
    "duration": 5,
    "start_time": "2023-07-04T07:21:12.502Z"
   },
   {
    "duration": 77,
    "start_time": "2023-07-04T07:21:13.051Z"
   },
   {
    "duration": 4,
    "start_time": "2023-07-04T07:21:16.189Z"
   },
   {
    "duration": 6,
    "start_time": "2023-07-04T07:21:16.356Z"
   },
   {
    "duration": 5357,
    "start_time": "2023-07-04T07:21:26.395Z"
   },
   {
    "duration": 3868,
    "start_time": "2023-07-04T07:21:36.675Z"
   },
   {
    "duration": 194162,
    "start_time": "2023-07-04T07:21:44.086Z"
   },
   {
    "duration": 78,
    "start_time": "2023-07-04T07:24:58.250Z"
   },
   {
    "duration": 0,
    "start_time": "2023-07-04T07:24:58.330Z"
   },
   {
    "duration": 5,
    "start_time": "2023-07-04T07:25:15.573Z"
   },
   {
    "duration": 47754,
    "start_time": "2023-07-04T07:25:16.041Z"
   },
   {
    "duration": 6,
    "start_time": "2023-07-04T07:26:21.493Z"
   },
   {
    "duration": 94600,
    "start_time": "2023-07-04T07:26:22.660Z"
   },
   {
    "duration": 6,
    "start_time": "2023-07-04T07:28:39.334Z"
   },
   {
    "duration": 190351,
    "start_time": "2023-07-04T07:28:39.647Z"
   },
   {
    "duration": 6,
    "start_time": "2023-07-04T07:32:18.970Z"
   },
   {
    "duration": 1805,
    "start_time": "2023-07-04T07:32:19.288Z"
   },
   {
    "duration": 7,
    "start_time": "2023-07-04T07:32:39.661Z"
   },
   {
    "duration": 1638,
    "start_time": "2023-07-04T07:32:39.919Z"
   },
   {
    "duration": 6,
    "start_time": "2023-07-04T07:32:54.551Z"
   },
   {
    "duration": 1498,
    "start_time": "2023-07-04T07:32:54.762Z"
   },
   {
    "duration": 5,
    "start_time": "2023-07-04T07:33:11.827Z"
   },
   {
    "duration": 45479,
    "start_time": "2023-07-04T07:33:11.989Z"
   },
   {
    "duration": 19810,
    "start_time": "2023-07-04T07:34:09.602Z"
   },
   {
    "duration": 45,
    "start_time": "2023-07-04T07:42:46.633Z"
   },
   {
    "duration": 4,
    "start_time": "2023-07-04T07:43:22.413Z"
   },
   {
    "duration": 5407,
    "start_time": "2023-07-04T07:43:33.591Z"
   },
   {
    "duration": 212,
    "start_time": "2023-07-04T07:44:02.107Z"
   },
   {
    "duration": 26,
    "start_time": "2023-07-04T07:44:02.323Z"
   },
   {
    "duration": 19827,
    "start_time": "2023-07-04T07:44:03.204Z"
   },
   {
    "duration": 7,
    "start_time": "2023-07-04T07:44:40.513Z"
   },
   {
    "duration": 4149,
    "start_time": "2023-07-04T07:44:40.703Z"
   },
   {
    "duration": 6,
    "start_time": "2023-07-04T07:45:37.874Z"
   },
   {
    "duration": 1855,
    "start_time": "2023-07-04T07:45:39.633Z"
   },
   {
    "duration": 5,
    "start_time": "2023-07-04T07:46:11.142Z"
   },
   {
    "duration": 1767,
    "start_time": "2023-07-04T07:46:11.642Z"
   },
   {
    "duration": 83467,
    "start_time": "2023-07-04T07:47:12.983Z"
   },
   {
    "duration": 5,
    "start_time": "2023-07-04T07:49:10.612Z"
   },
   {
    "duration": 1597,
    "start_time": "2023-07-04T07:49:13.335Z"
   },
   {
    "duration": 6,
    "start_time": "2023-07-04T07:51:16.734Z"
   },
   {
    "duration": 1223,
    "start_time": "2023-07-04T07:51:21.019Z"
   },
   {
    "duration": 6,
    "start_time": "2023-07-04T07:55:32.104Z"
   },
   {
    "duration": 2814,
    "start_time": "2023-07-04T07:55:35.714Z"
   },
   {
    "duration": 4,
    "start_time": "2023-07-04T07:56:22.362Z"
   },
   {
    "duration": 3,
    "start_time": "2023-07-04T07:56:22.604Z"
   },
   {
    "duration": 2516,
    "start_time": "2023-07-04T07:56:23.299Z"
   },
   {
    "duration": 6,
    "start_time": "2023-07-04T07:57:03.939Z"
   },
   {
    "duration": 4,
    "start_time": "2023-07-04T07:57:04.133Z"
   },
   {
    "duration": 2622,
    "start_time": "2023-07-04T07:57:05.826Z"
   },
   {
    "duration": 4,
    "start_time": "2023-07-04T07:57:38.937Z"
   },
   {
    "duration": 3,
    "start_time": "2023-07-04T07:57:39.466Z"
   },
   {
    "duration": 2887,
    "start_time": "2023-07-04T07:57:39.876Z"
   },
   {
    "duration": 0,
    "start_time": "2023-07-04T07:59:50.828Z"
   },
   {
    "duration": 2588,
    "start_time": "2023-07-04T08:00:58.773Z"
   },
   {
    "duration": 4671,
    "start_time": "2023-07-04T08:01:01.364Z"
   },
   {
    "duration": 6,
    "start_time": "2023-07-04T08:01:06.036Z"
   },
   {
    "duration": 15,
    "start_time": "2023-07-04T08:01:06.045Z"
   },
   {
    "duration": 788,
    "start_time": "2023-07-04T08:01:06.062Z"
   },
   {
    "duration": 17,
    "start_time": "2023-07-04T08:01:06.852Z"
   },
   {
    "duration": 33,
    "start_time": "2023-07-04T08:01:11.306Z"
   },
   {
    "duration": 237,
    "start_time": "2023-07-04T08:01:12.001Z"
   },
   {
    "duration": 5,
    "start_time": "2023-07-04T08:01:12.488Z"
   },
   {
    "duration": 64,
    "start_time": "2023-07-04T08:01:14.440Z"
   },
   {
    "duration": 5,
    "start_time": "2023-07-04T08:01:18.591Z"
   },
   {
    "duration": 5,
    "start_time": "2023-07-04T08:01:19.733Z"
   },
   {
    "duration": 5,
    "start_time": "2023-07-04T08:01:21.476Z"
   },
   {
    "duration": 370,
    "start_time": "2023-07-04T08:13:08.779Z"
   },
   {
    "duration": 624,
    "start_time": "2023-07-04T08:13:16.367Z"
   },
   {
    "duration": 13656,
    "start_time": "2023-07-04T08:13:22.652Z"
   },
   {
    "duration": 4402,
    "start_time": "2023-07-04T08:15:07.160Z"
   },
   {
    "duration": 9149,
    "start_time": "2023-07-04T08:15:15.139Z"
   },
   {
    "duration": 5,
    "start_time": "2023-07-04T08:17:07.876Z"
   },
   {
    "duration": 101852,
    "start_time": "2023-07-04T08:17:54.284Z"
   },
   {
    "duration": 0,
    "start_time": "2023-07-04T08:19:36.139Z"
   },
   {
    "duration": 5,
    "start_time": "2023-07-04T08:19:49.878Z"
   },
   {
    "duration": 172316,
    "start_time": "2023-07-04T08:38:20.713Z"
   },
   {
    "duration": 23,
    "start_time": "2023-07-04T08:41:20.493Z"
   },
   {
    "duration": 6000,
    "start_time": "2023-07-04T08:41:47.314Z"
   },
   {
    "duration": 176475,
    "start_time": "2023-07-04T08:42:39.056Z"
   },
   {
    "duration": 380,
    "start_time": "2023-07-04T08:45:50.134Z"
   },
   {
    "duration": 4,
    "start_time": "2023-07-04T08:45:58.771Z"
   },
   {
    "duration": 93810,
    "start_time": "2023-07-04T08:46:02.713Z"
   },
   {
    "duration": 41,
    "start_time": "2023-07-04T08:48:44.112Z"
   },
   {
    "duration": 36,
    "start_time": "2023-07-04T08:48:44.996Z"
   },
   {
    "duration": 204,
    "start_time": "2023-07-04T08:48:45.173Z"
   },
   {
    "duration": 5,
    "start_time": "2023-07-04T08:48:45.531Z"
   },
   {
    "duration": 69,
    "start_time": "2023-07-04T08:48:46.568Z"
   },
   {
    "duration": 5,
    "start_time": "2023-07-04T08:48:52.600Z"
   },
   {
    "duration": 3,
    "start_time": "2023-07-04T08:48:52.823Z"
   },
   {
    "duration": 32748,
    "start_time": "2023-07-04T08:48:54.554Z"
   },
   {
    "duration": 93975,
    "start_time": "2023-07-04T08:49:33.248Z"
   },
   {
    "duration": 325,
    "start_time": "2023-07-04T09:14:32.495Z"
   },
   {
    "duration": 43,
    "start_time": "2023-07-04T09:23:48.013Z"
   },
   {
    "duration": 31,
    "start_time": "2023-07-04T09:35:04.106Z"
   },
   {
    "duration": 22,
    "start_time": "2023-07-04T09:35:18.663Z"
   },
   {
    "duration": 12,
    "start_time": "2023-07-04T09:35:27.454Z"
   },
   {
    "duration": 5,
    "start_time": "2023-07-04T09:35:27.620Z"
   },
   {
    "duration": 564201,
    "start_time": "2023-07-04T09:35:35.343Z"
   },
   {
    "duration": 3956,
    "start_time": "2023-07-04T09:45:37.228Z"
   },
   {
    "duration": 107906,
    "start_time": "2023-07-04T09:45:46.207Z"
   },
   {
    "duration": 6,
    "start_time": "2023-07-04T09:48:06.741Z"
   },
   {
    "duration": 4,
    "start_time": "2023-07-04T09:48:18.815Z"
   },
   {
    "duration": 2425,
    "start_time": "2023-07-05T16:19:40.637Z"
   },
   {
    "duration": 5315,
    "start_time": "2023-07-05T16:19:43.064Z"
   },
   {
    "duration": 5,
    "start_time": "2023-07-05T16:19:48.380Z"
   },
   {
    "duration": 6,
    "start_time": "2023-07-05T16:19:48.387Z"
   },
   {
    "duration": 3271,
    "start_time": "2023-07-05T16:19:48.394Z"
   },
   {
    "duration": 17,
    "start_time": "2023-07-05T16:19:51.667Z"
   },
   {
    "duration": 30,
    "start_time": "2023-07-05T16:20:02.706Z"
   },
   {
    "duration": 203,
    "start_time": "2023-07-05T16:20:02.982Z"
   },
   {
    "duration": 6,
    "start_time": "2023-07-05T16:20:06.693Z"
   },
   {
    "duration": 61,
    "start_time": "2023-07-05T16:20:09.282Z"
   },
   {
    "duration": 4,
    "start_time": "2023-07-05T16:20:48.595Z"
   },
   {
    "duration": 3,
    "start_time": "2023-07-05T16:20:49.148Z"
   },
   {
    "duration": 84601,
    "start_time": "2023-07-05T16:20:52.580Z"
   },
   {
    "duration": 11,
    "start_time": "2023-07-05T16:22:51.970Z"
   },
   {
    "duration": 5,
    "start_time": "2023-07-05T16:22:52.193Z"
   },
   {
    "duration": 4,
    "start_time": "2023-07-05T16:23:32.155Z"
   },
   {
    "duration": 2,
    "start_time": "2023-07-05T16:23:32.315Z"
   },
   {
    "duration": 108199,
    "start_time": "2023-07-05T16:25:32.371Z"
   },
   {
    "duration": 347503,
    "start_time": "2023-07-05T16:27:23.184Z"
   },
   {
    "duration": 76235,
    "start_time": "2023-07-05T16:36:57.890Z"
   },
   {
    "duration": 0,
    "start_time": "2023-07-05T16:38:14.127Z"
   },
   {
    "duration": 22,
    "start_time": "2023-07-05T16:38:16.418Z"
   },
   {
    "duration": 28506,
    "start_time": "2023-07-05T16:38:48.889Z"
   },
   {
    "duration": 4,
    "start_time": "2023-07-05T16:39:52.030Z"
   },
   {
    "duration": 5,
    "start_time": "2023-07-05T16:39:58.064Z"
   },
   {
    "duration": 4,
    "start_time": "2023-07-05T16:40:12.546Z"
   },
   {
    "duration": 4,
    "start_time": "2023-07-05T16:40:18.964Z"
   },
   {
    "duration": 69304,
    "start_time": "2023-07-05T16:41:51.194Z"
   },
   {
    "duration": 30420,
    "start_time": "2023-07-05T16:44:32.382Z"
   },
   {
    "duration": 44,
    "start_time": "2023-07-05T16:45:11.159Z"
   },
   {
    "duration": 28470,
    "start_time": "2023-07-05T16:45:52.726Z"
   },
   {
    "duration": 211671,
    "start_time": "2023-07-05T16:47:07.506Z"
   },
   {
    "duration": 6,
    "start_time": "2023-07-05T16:50:54.352Z"
   },
   {
    "duration": 75,
    "start_time": "2023-07-05T16:52:16.202Z"
   },
   {
    "duration": 28911,
    "start_time": "2023-07-05T16:52:33.258Z"
   },
   {
    "duration": 11,
    "start_time": "2023-07-05T16:53:12.142Z"
   },
   {
    "duration": 28601,
    "start_time": "2023-07-05T16:53:58.296Z"
   },
   {
    "duration": 7,
    "start_time": "2023-07-05T16:54:48.687Z"
   },
   {
    "duration": 27,
    "start_time": "2023-07-05T16:55:22.671Z"
   },
   {
    "duration": 18235,
    "start_time": "2023-07-05T16:55:35.444Z"
   },
   {
    "duration": 8,
    "start_time": "2023-07-05T16:56:17.524Z"
   },
   {
    "duration": 28363,
    "start_time": "2023-07-05T16:56:54.642Z"
   },
   {
    "duration": 7,
    "start_time": "2023-07-05T16:57:42.164Z"
   },
   {
    "duration": 626507,
    "start_time": "2023-07-05T16:58:53.079Z"
   },
   {
    "duration": 20,
    "start_time": "2023-07-05T17:09:30.597Z"
   },
   {
    "duration": 9,
    "start_time": "2023-07-05T17:09:46.607Z"
   },
   {
    "duration": 346679,
    "start_time": "2023-07-05T17:09:59.392Z"
   },
   {
    "duration": 214610,
    "start_time": "2023-07-05T17:16:31.968Z"
   },
   {
    "duration": 626611,
    "start_time": "2023-07-05T17:23:26.571Z"
   },
   {
    "duration": 3,
    "start_time": "2023-07-05T17:33:53.184Z"
   },
   {
    "duration": 31,
    "start_time": "2023-07-05T17:33:53.188Z"
   },
   {
    "duration": 62752,
    "start_time": "2023-07-05T17:33:53.221Z"
   },
   {
    "duration": 14697,
    "start_time": "2023-07-05T17:34:55.975Z"
   },
   {
    "duration": 8525,
    "start_time": "2023-07-05T17:35:10.674Z"
   },
   {
    "duration": 4020,
    "start_time": "2023-07-05T17:35:19.200Z"
   },
   {
    "duration": 0,
    "start_time": "2023-07-05T17:35:23.222Z"
   },
   {
    "duration": 0,
    "start_time": "2023-07-05T17:35:23.223Z"
   },
   {
    "duration": 0,
    "start_time": "2023-07-05T17:35:23.225Z"
   },
   {
    "duration": 7,
    "start_time": "2023-07-05T17:37:21.260Z"
   },
   {
    "duration": 9,
    "start_time": "2023-07-05T17:37:37.515Z"
   },
   {
    "duration": 7,
    "start_time": "2023-07-05T17:37:47.283Z"
   },
   {
    "duration": 18,
    "start_time": "2023-07-05T17:38:17.751Z"
   },
   {
    "duration": 23,
    "start_time": "2023-07-05T17:38:27.060Z"
   },
   {
    "duration": 445,
    "start_time": "2023-07-05T17:38:39.071Z"
   },
   {
    "duration": 5,
    "start_time": "2023-07-05T17:38:51.571Z"
   },
   {
    "duration": 6,
    "start_time": "2023-07-05T17:39:35.612Z"
   },
   {
    "duration": 2751,
    "start_time": "2023-07-05T17:40:28.122Z"
   },
   {
    "duration": 2863,
    "start_time": "2023-07-05T17:40:43.870Z"
   },
   {
    "duration": 71304,
    "start_time": "2023-07-05T17:41:25.699Z"
   },
   {
    "duration": 7744,
    "start_time": "2023-07-05T17:43:20.062Z"
   },
   {
    "duration": 4,
    "start_time": "2023-07-05T17:44:01.304Z"
   },
   {
    "duration": 171519,
    "start_time": "2023-07-05T17:44:04.760Z"
   },
   {
    "duration": 90,
    "start_time": "2023-07-05T17:46:56.282Z"
   },
   {
    "duration": 177,
    "start_time": "2023-07-05T17:46:56.374Z"
   },
   {
    "duration": 0,
    "start_time": "2023-07-05T17:46:56.553Z"
   },
   {
    "duration": 0,
    "start_time": "2023-07-05T17:46:56.555Z"
   },
   {
    "duration": 0,
    "start_time": "2023-07-05T17:46:56.557Z"
   },
   {
    "duration": 0,
    "start_time": "2023-07-05T17:46:56.558Z"
   },
   {
    "duration": 0,
    "start_time": "2023-07-05T17:46:56.559Z"
   },
   {
    "duration": 24,
    "start_time": "2023-07-05T17:48:54.164Z"
   },
   {
    "duration": 381499,
    "start_time": "2023-07-05T17:49:00.079Z"
   },
   {
    "duration": 18,
    "start_time": "2023-07-05T17:55:26.816Z"
   },
   {
    "duration": 18,
    "start_time": "2023-07-05T17:55:46.430Z"
   },
   {
    "duration": 7,
    "start_time": "2023-07-05T17:56:16.659Z"
   },
   {
    "duration": 3074,
    "start_time": "2023-07-05T17:56:26.600Z"
   },
   {
    "duration": 2574,
    "start_time": "2023-07-05T17:56:33.653Z"
   },
   {
    "duration": 2021,
    "start_time": "2023-07-05T17:56:45.912Z"
   },
   {
    "duration": 25,
    "start_time": "2023-07-05T17:56:54.848Z"
   }
  ],
  "kernelspec": {
   "display_name": "Python 3 (ipykernel)",
   "language": "python",
   "name": "python3"
  },
  "language_info": {
   "codemirror_mode": {
    "name": "ipython",
    "version": 3
   },
   "file_extension": ".py",
   "mimetype": "text/x-python",
   "name": "python",
   "nbconvert_exporter": "python",
   "pygments_lexer": "ipython3",
   "version": "3.9.17"
  },
  "toc": {
   "base_numbering": 1,
   "nav_menu": {},
   "number_sections": true,
   "sideBar": true,
   "skip_h1_title": true,
   "title_cell": "Содержание",
   "title_sidebar": "Contents",
   "toc_cell": true,
   "toc_position": {
    "height": "calc(100% - 180px)",
    "left": "10px",
    "top": "150px",
    "width": "302.391px"
   },
   "toc_section_display": true,
   "toc_window_display": true
  }
 },
 "nbformat": 4,
 "nbformat_minor": 2
}
